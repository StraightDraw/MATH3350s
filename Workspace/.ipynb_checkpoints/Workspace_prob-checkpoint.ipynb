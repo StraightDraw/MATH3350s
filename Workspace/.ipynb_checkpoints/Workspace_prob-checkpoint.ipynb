{
 "cells": [
  {
   "cell_type": "markdown",
   "id": "ae18a1d3-a1e9-4549-9da2-f30f9372315b",
   "metadata": {},
   "source": [
    "# Workspace for Probability\n",
    "\n",
    "We have created this blank template in which we can immediately begin working in R on probability problems. We will only need the formulas for the functions that calculate **combinations** and **permutations**."
   ]
  },
  {
   "cell_type": "code",
   "execution_count": 1,
   "id": "6bce2f0f-82d0-4b7e-9235-8cbe421cef0d",
   "metadata": {},
   "outputs": [],
   "source": [
    "combin <- function(n, k) {\n",
    "    return(factorial(n) / ( factorial(k)*factorial(n-k) )) }\n",
    "perm <- function(n, k) {\n",
    "    return(combin(n,k) * factorial(k))}"
   ]
  },
  {
   "cell_type": "markdown",
   "id": "b69e6e9d-dea0-4254-bb30-4ec443060ff7",
   "metadata": {},
   "source": [
    "## Begin working in the cells below."
   ]
  },
  {
   "cell_type": "code",
   "execution_count": null,
   "id": "f73433da-16f6-4aee-96cf-f3eacb19c3b2",
   "metadata": {},
   "outputs": [],
   "source": []
  },
  {
   "cell_type": "code",
   "execution_count": null,
   "id": "0aca562a-0a8a-4d71-b123-47f615b65a34",
   "metadata": {},
   "outputs": [],
   "source": []
  },
  {
   "cell_type": "code",
   "execution_count": null,
   "id": "9758c377-090f-471c-b72e-ae466ac303a4",
   "metadata": {},
   "outputs": [],
   "source": []
  },
  {
   "cell_type": "code",
   "execution_count": null,
   "id": "29561013-e44f-4b2f-8391-9b750d34ab56",
   "metadata": {},
   "outputs": [],
   "source": []
  },
  {
   "cell_type": "code",
   "execution_count": null,
   "id": "45641842-994d-4476-82db-c0660818d3bd",
   "metadata": {},
   "outputs": [],
   "source": []
  }
 ],
 "metadata": {
  "kernelspec": {
   "display_name": "R",
   "language": "R",
   "name": "ir"
  },
  "language_info": {
   "codemirror_mode": "r",
   "file_extension": ".r",
   "mimetype": "text/x-r-source",
   "name": "R",
   "pygments_lexer": "r",
   "version": "3.6.1"
  }
 },
 "nbformat": 4,
 "nbformat_minor": 5
}
