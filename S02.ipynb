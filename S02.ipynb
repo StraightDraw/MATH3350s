{
 "cells": [
  {
   "cell_type": "markdown",
   "id": "treated-cuisine",
   "metadata": {},
   "source": [
    "# Exploratory Data Analysis\n",
    "\n",
    "## Class Notebook 2"
   ]
  },
  {
   "cell_type": "markdown",
   "id": "union-functionality",
   "metadata": {},
   "source": [
    "## Data\n",
    "\n",
    "Recall that the $2$ key questions for analyses of data in statistics are:\n",
    "\n",
    "- Shape?\n",
    "- Outliers/skew?\n",
    "\n",
    "The most important distribution for introductory statistics is the normal (or bell-shaped) distribution since parametric statistical tests ($z$-test, $t$-test, and ANOVA) are built on assumpmtions of **normality**. Skew and outliers must be treated with care and, possibly, different tools. The first steps of data analysis are to generate numeric descriptions of the data (descriptive statistics) and typical graphical displays of data like histograms or stem plots.\n",
    "\n",
    "We already showed how to read in data from an Excel file stored online. Let's use the data from this table which are the win/loss totals from Mandy's most recent 20 cash poker sessions:\n",
    "\n",
    "<table style=\"width:50%\">\n",
    "  <tr>\n",
    "    <td>28</td>\n",
    "    <td>11</td>\n",
    "    <td>18</td>\n",
    "    <td>35</td>\n",
    "    <td>36</td>\n",
    "    <td>6</td>\n",
    "    <td>-38</td>\n",
    "    <td>14</td>\n",
    "    <td>-19</td>\n",
    "    <td>43</td>\n",
    "  </tr>\n",
    "  <tr>\n",
    "    <td>-14</td>\n",
    "    <td>-30</td>\n",
    "    <td>-16</td>\n",
    "    <td>-25</td>\n",
    "    <td>0</td>\n",
    "    <td>40</td>\n",
    "    <td>16</td>\n",
    "    <td>-79</td>\n",
    "    <td>3</td>\n",
    "    <td>11</td>\n",
    "  </tr>\n",
    "</table>\n",
    "\n",
    "To enter data mually from a list, we use the concatentate function **c** as follows:"
   ]
  },
  {
   "cell_type": "code",
   "execution_count": 2,
   "id": "closed-negotiation",
   "metadata": {},
   "outputs": [],
   "source": [
    "W <- c( 28, 11, 18, 35, 36, 6, -38, 14, -19, 43, -14, -30, -16, -25, 0, 40, 16, -79, 3, 11)"
   ]
  },
  {
   "cell_type": "markdown",
   "id": "social-paragraph",
   "metadata": {},
   "source": [
    "We can use the **head** function to see the top few rows of a table or the first few entries of a vector:"
   ]
  },
  {
   "cell_type": "code",
   "execution_count": 3,
   "id": "alternative-manhattan",
   "metadata": {},
   "outputs": [
    {
     "data": {
      "text/html": [
       "<style>\n",
       ".list-inline {list-style: none; margin:0; padding: 0}\n",
       ".list-inline>li {display: inline-block}\n",
       ".list-inline>li:not(:last-child)::after {content: \"\\00b7\"; padding: 0 .5ex}\n",
       "</style>\n",
       "<ol class=list-inline><li>28</li><li>11</li><li>18</li><li>35</li></ol>\n"
      ],
      "text/latex": [
       "\\begin{enumerate*}\n",
       "\\item 28\n",
       "\\item 11\n",
       "\\item 18\n",
       "\\item 35\n",
       "\\end{enumerate*}\n"
      ],
      "text/markdown": [
       "1. 28\n",
       "2. 11\n",
       "3. 18\n",
       "4. 35\n",
       "\n",
       "\n"
      ],
      "text/plain": [
       "[1] 28 11 18 35"
      ]
     },
     "metadata": {},
     "output_type": "display_data"
    }
   ],
   "source": [
    "# Displays the first four entries\n",
    "\n",
    "head(W,4)"
   ]
  },
  {
   "cell_type": "markdown",
   "id": "double-edwards",
   "metadata": {},
   "source": [
    "## Types of Data\n",
    "\n",
    "Data come in two varieties: **quantitative** (numeric) or **qualitative** (categorical) data. Poker player Pete plays online tournaments with a $20 buy-in. These tournaments are 1-vs-1 (or \"heads up\" in poker parlance), so he either doubles his money or loses it all. Pete’s win-loss record is category data, a series of W’s and L’s.\n",
    "\n",
    "Clearly, this is numeric data which has a rather standard set of descriptive statistics we need to calculate and display."
   ]
  },
  {
   "cell_type": "markdown",
   "id": "spread-field",
   "metadata": {},
   "source": [
    "## Descriptive Statistics\n",
    "\n",
    "We will use the functions we used in lesson 1 to get, first, the standard summary statistics:\n",
    "\n",
    "- mean\n",
    "- standard deviation\n",
    "- sample size\n",
    "\n",
    "Then we will display the 5-Number Summary. Note that, below, we use the function **length** to determine the sample size and also show how to use the **round** function."
   ]
  },
  {
   "cell_type": "code",
   "execution_count": 12,
   "id": "informal-match",
   "metadata": {},
   "outputs": [],
   "source": [
    "m <- mean(W)\n",
    "s <- round(sd(W),2)\n",
    "n <- length(W)"
   ]
  },
  {
   "cell_type": "code",
   "execution_count": 13,
   "id": "quiet-underwear",
   "metadata": {},
   "outputs": [
    {
     "name": "stdout",
     "output_type": "stream",
     "text": [
      "Descriptive Statistics: \n",
      "  Mean = 2 \n",
      "  Standard deviation = 30.57 \n",
      "  Sample size 20 \n",
      "\n",
      "The 5-number summary:"
     ]
    },
    {
     "data": {
      "text/plain": [
       "   Min. 1st Qu.  Median    Mean 3rd Qu.    Max. \n",
       " -79.00  -16.75    8.50    2.00   20.50   43.00 "
      ]
     },
     "metadata": {},
     "output_type": "display_data"
    }
   ],
   "source": [
    "cat (\"Descriptive Statistics: \\n  Mean =\", m, \"\\n  Standard deviation =\", s, \"\\n  Sample size\", n, \"\\n\\nThe 5-number summary:\")\n",
    "summary(W)"
   ]
  },
  {
   "cell_type": "markdown",
   "id": "south-heading",
   "metadata": {},
   "source": [
    "## Visualizations\n",
    "\n",
    "For single variable data, we tend to look first at a histogram, then perhaps a boxplot.\n",
    "\n",
    "### Histogram"
   ]
  },
  {
   "cell_type": "code",
   "execution_count": 17,
   "id": "improved-spanking",
   "metadata": {},
   "outputs": [
    {
     "data": {
      "image/png": "[encoded data removed]",
      "text/plain": [
       "Plot with title “Histogram of W”"
      ]
     },
     "metadata": {
      "image/png": {
       "height": 420,
       "width": 420
      }
     },
     "output_type": "display_data"
    }
   ],
   "source": [
    "hist(W)"
   ]
  },
  {
   "cell_type": "markdown",
   "id": "damaged-radical",
   "metadata": {},
   "source": [
    "Given the standard histogram above, recall that this display often needs different bin widths to display more accurately the shape of the distribution. Working in the blank cells below, add the option **breaks = n** to the histogram above. Try things like n = 5, 10, 15, and 20 to see which version provides the best display."
   ]
  },
  {
   "cell_type": "code",
   "execution_count": null,
   "id": "circular-butterfly",
   "metadata": {},
   "outputs": [],
   "source": []
  },
  {
   "cell_type": "code",
   "execution_count": null,
   "id": "awful-council",
   "metadata": {},
   "outputs": [],
   "source": []
  },
  {
   "cell_type": "code",
   "execution_count": null,
   "id": "verified-charles",
   "metadata": {},
   "outputs": [],
   "source": []
  },
  {
   "cell_type": "markdown",
   "id": "passive-conflict",
   "metadata": {},
   "source": [
    "### Box Plot"
   ]
  },
  {
   "cell_type": "code",
   "execution_count": 20,
   "id": "mounted-midnight",
   "metadata": {},
   "outputs": [
    {
     "data": {
      "image/png": "[encoded data removed]",
      "text/plain": [
       "Plot with title “Mandy's Winning over Last 20 Sessions”"
      ]
     },
     "metadata": {
      "image/png": {
       "height": 420,
       "width": 420
      }
     },
     "output_type": "display_data"
    }
   ],
   "source": [
    "boxplot(W,\n",
    "  main = \"Mandy's Winning over Last 20 Sessions\",\n",
    "  xlab = \"Winnings\",\n",
    "  ylab = \"BB/100\")"
   ]
  },
  {
   "cell_type": "markdown",
   "id": "informational-generator",
   "metadata": {},
   "source": [
    "### What do these visualizations tell us?"
   ]
  },
  {
   "cell_type": "markdown",
   "id": "described-spouse",
   "metadata": {},
   "source": [
    "We can see\n",
    "\n",
    "1. Approximately normal distribution (e.g. bell-shaped)\n",
    "2. Skew to the left\n",
    "3. Outlier to left\n",
    "\n",
    "Your skills of analyzing these graphical displays will improve with practice."
   ]
  },
  {
   "cell_type": "markdown",
   "id": "moved-government",
   "metadata": {},
   "source": [
    "### Stem Plots\n",
    "\n",
    "An interesting hybrid visualization shows the shape of the data while displaying all the data."
   ]
  },
  {
   "cell_type": "code",
   "execution_count": 31,
   "id": "analyzed-first",
   "metadata": {},
   "outputs": [
    {
     "name": "stdout",
     "output_type": "stream",
     "text": [
      "\n",
      "  The decimal point is 2 digit(s) to the right of the |\n",
      "\n",
      "  -0 | 8\n",
      "  -0 | 433221\n",
      "   0 | 0011112234444\n",
      "\n"
     ]
    }
   ],
   "source": [
    "stem(W)"
   ]
  },
  {
   "cell_type": "markdown",
   "id": "genuine-segment",
   "metadata": {},
   "source": [
    "The display is too cramped to see much, so we use the option **scale** to split stems:"
   ]
  },
  {
   "cell_type": "code",
   "execution_count": 32,
   "id": "completed-muscle",
   "metadata": {},
   "outputs": [
    {
     "name": "stdout",
     "output_type": "stream",
     "text": [
      "\n",
      "  The decimal point is 1 digit(s) to the right of the |\n",
      "\n",
      "  -6 | 9\n",
      "  -4 | \n",
      "  -2 | 805\n",
      "  -0 | 964\n",
      "   0 | 03611468\n",
      "   2 | 856\n",
      "   4 | 03\n",
      "\n"
     ]
    }
   ],
   "source": [
    "stem(W, scale = 2)"
   ]
  },
  {
   "cell_type": "markdown",
   "id": "attractive-interference",
   "metadata": {},
   "source": [
    "Using $scale = 1$ is the default R stem plot. In the space below, try different **scale** settings like 1.5, 2.5 and 3. Decide which you think displays the distribution of the data best. Which one is easiest to read?"
   ]
  },
  {
   "cell_type": "code",
   "execution_count": null,
   "id": "marine-flour",
   "metadata": {},
   "outputs": [],
   "source": []
  },
  {
   "cell_type": "code",
   "execution_count": null,
   "id": "experienced-ending",
   "metadata": {},
   "outputs": [],
   "source": []
  },
  {
   "cell_type": "markdown",
   "id": "quick-shopper",
   "metadata": {},
   "source": [
    "### Outliers and Standard Deviation\n",
    "\n",
    "Because the standard deviation measures distances in a data set, we can check for outliers using it. For small data sets, where $n\\leq 50$, any data point more than two standard deviations from the mean may be considered an outlier. We have the data in R, so let’s use some quick code to determine the cutoff values at which we would consider a data point an outlier. The R functions **mean** and **sd** will be needed for their obvious purposes."
   ]
  },
  {
   "cell_type": "code",
   "execution_count": 55,
   "id": "reverse-matter",
   "metadata": {},
   "outputs": [],
   "source": [
    "right = mean(W) + 2 * sd(W)\n",
    "left = mean(W) - 2 * sd(W)"
   ]
  },
  {
   "cell_type": "code",
   "execution_count": 56,
   "id": "italian-confidence",
   "metadata": {},
   "outputs": [
    {
     "data": {
      "text/html": [
       "-59.1469326166166"
      ],
      "text/latex": [
       "-59.1469326166166"
      ],
      "text/markdown": [
       "-59.1469326166166"
      ],
      "text/plain": [
       "[1] -59.14693"
      ]
     },
     "metadata": {},
     "output_type": "display_data"
    }
   ],
   "source": [
    "# Lower cutoff for outliers\n",
    "\n",
    "left"
   ]
  },
  {
   "cell_type": "code",
   "execution_count": 57,
   "id": "simplified-richardson",
   "metadata": {},
   "outputs": [
    {
     "data": {
      "text/html": [
       "63.1469326166166"
      ],
      "text/latex": [
       "63.1469326166166"
      ],
      "text/markdown": [
       "63.1469326166166"
      ],
      "text/plain": [
       "[1] 63.14693"
      ]
     },
     "metadata": {},
     "output_type": "display_data"
    }
   ],
   "source": [
    "# Upper cutoff for outliers\n",
    "\n",
    "right"
   ]
  },
  {
   "cell_type": "markdown",
   "id": "premier-richards",
   "metadata": {},
   "source": [
    "We can use R to check if any outliers exist:"
   ]
  },
  {
   "cell_type": "code",
   "execution_count": 58,
   "id": "settled-jerusalem",
   "metadata": {},
   "outputs": [
    {
     "data": {
      "text/html": [
       "<style>\n",
       ".list-inline {list-style: none; margin:0; padding: 0}\n",
       ".list-inline>li {display: inline-block}\n",
       ".list-inline>li:not(:last-child)::after {content: \"\\00b7\"; padding: 0 .5ex}\n",
       "</style>\n",
       "<ol class=list-inline><li>FALSE</li><li>FALSE</li><li>FALSE</li><li>FALSE</li><li>FALSE</li><li>FALSE</li><li>FALSE</li><li>FALSE</li><li>FALSE</li><li>FALSE</li><li>FALSE</li><li>FALSE</li><li>FALSE</li><li>FALSE</li><li>FALSE</li><li>FALSE</li><li>FALSE</li><li>TRUE</li><li>FALSE</li><li>FALSE</li></ol>\n"
      ],
      "text/latex": [
       "\\begin{enumerate*}\n",
       "\\item FALSE\n",
       "\\item FALSE\n",
       "\\item FALSE\n",
       "\\item FALSE\n",
       "\\item FALSE\n",
       "\\item FALSE\n",
       "\\item FALSE\n",
       "\\item FALSE\n",
       "\\item FALSE\n",
       "\\item FALSE\n",
       "\\item FALSE\n",
       "\\item FALSE\n",
       "\\item FALSE\n",
       "\\item FALSE\n",
       "\\item FALSE\n",
       "\\item FALSE\n",
       "\\item FALSE\n",
       "\\item TRUE\n",
       "\\item FALSE\n",
       "\\item FALSE\n",
       "\\end{enumerate*}\n"
      ],
      "text/markdown": [
       "1. FALSE\n",
       "2. FALSE\n",
       "3. FALSE\n",
       "4. FALSE\n",
       "5. FALSE\n",
       "6. FALSE\n",
       "7. FALSE\n",
       "8. FALSE\n",
       "9. FALSE\n",
       "10. FALSE\n",
       "11. FALSE\n",
       "12. FALSE\n",
       "13. FALSE\n",
       "14. FALSE\n",
       "15. FALSE\n",
       "16. FALSE\n",
       "17. FALSE\n",
       "18. TRUE\n",
       "19. FALSE\n",
       "20. FALSE\n",
       "\n",
       "\n"
      ],
      "text/plain": [
       " [1] FALSE FALSE FALSE FALSE FALSE FALSE FALSE FALSE FALSE FALSE FALSE FALSE\n",
       "[13] FALSE FALSE FALSE FALSE FALSE  TRUE FALSE FALSE"
      ]
     },
     "metadata": {},
     "output_type": "display_data"
    }
   ],
   "source": [
    "W < left"
   ]
  },
  {
   "cell_type": "markdown",
   "id": "further-agent",
   "metadata": {},
   "source": [
    "We can convert the TRUE and FALSE data to 0's and 1's like this:"
   ]
  },
  {
   "cell_type": "code",
   "execution_count": 59,
   "id": "immune-reviewer",
   "metadata": {},
   "outputs": [
    {
     "data": {
      "text/html": [
       "<style>\n",
       ".list-inline {list-style: none; margin:0; padding: 0}\n",
       ".list-inline>li {display: inline-block}\n",
       ".list-inline>li:not(:last-child)::after {content: \"\\00b7\"; padding: 0 .5ex}\n",
       "</style>\n",
       "<ol class=list-inline><li>0</li><li>0</li><li>0</li><li>0</li><li>0</li><li>0</li><li>0</li><li>0</li><li>0</li><li>0</li><li>0</li><li>0</li><li>0</li><li>0</li><li>0</li><li>0</li><li>0</li><li>1</li><li>0</li><li>0</li></ol>\n"
      ],
      "text/latex": [
       "\\begin{enumerate*}\n",
       "\\item 0\n",
       "\\item 0\n",
       "\\item 0\n",
       "\\item 0\n",
       "\\item 0\n",
       "\\item 0\n",
       "\\item 0\n",
       "\\item 0\n",
       "\\item 0\n",
       "\\item 0\n",
       "\\item 0\n",
       "\\item 0\n",
       "\\item 0\n",
       "\\item 0\n",
       "\\item 0\n",
       "\\item 0\n",
       "\\item 0\n",
       "\\item 1\n",
       "\\item 0\n",
       "\\item 0\n",
       "\\end{enumerate*}\n"
      ],
      "text/markdown": [
       "1. 0\n",
       "2. 0\n",
       "3. 0\n",
       "4. 0\n",
       "5. 0\n",
       "6. 0\n",
       "7. 0\n",
       "8. 0\n",
       "9. 0\n",
       "10. 0\n",
       "11. 0\n",
       "12. 0\n",
       "13. 0\n",
       "14. 0\n",
       "15. 0\n",
       "16. 0\n",
       "17. 0\n",
       "18. 1\n",
       "19. 0\n",
       "20. 0\n",
       "\n",
       "\n"
      ],
      "text/plain": [
       " [1] 0 0 0 0 0 0 0 0 0 0 0 0 0 0 0 0 0 1 0 0"
      ]
     },
     "metadata": {},
     "output_type": "display_data"
    }
   ],
   "source": [
    "( W < left ) * 1"
   ]
  },
  {
   "cell_type": "markdown",
   "id": "transsexual-there",
   "metadata": {},
   "source": [
    "We can determine the number of outliers in a larger data set like this:"
   ]
  },
  {
   "cell_type": "code",
   "execution_count": 60,
   "id": "applied-anchor",
   "metadata": {},
   "outputs": [
    {
     "data": {
      "text/html": [
       "1"
      ],
      "text/latex": [
       "1"
      ],
      "text/markdown": [
       "1"
      ],
      "text/plain": [
       "[1] 1"
      ]
     },
     "metadata": {},
     "output_type": "display_data"
    }
   ],
   "source": [
    "sum( ( W < left ) * 1 )"
   ]
  },
  {
   "cell_type": "markdown",
   "id": "stainless-services",
   "metadata": {},
   "source": [
    "Use the code blocks below to check for outliers to the right and to practice these commands."
   ]
  },
  {
   "cell_type": "code",
   "execution_count": null,
   "id": "vocal-copying",
   "metadata": {},
   "outputs": [],
   "source": []
  },
  {
   "cell_type": "code",
   "execution_count": null,
   "id": "detected-system",
   "metadata": {},
   "outputs": [],
   "source": []
  },
  {
   "cell_type": "code",
   "execution_count": null,
   "id": "running-margin",
   "metadata": {},
   "outputs": [],
   "source": []
  },
  {
   "cell_type": "markdown",
   "id": "residential-system",
   "metadata": {},
   "source": [
    "### Outliers and the 5-Number Summary\n",
    "\n",
    "A box plot requires the 5-Number Summary, so we use the IQR (inner-quartile range) detect outliers. IQR is the distance between Q1 and Q3:\n",
    "\n",
    "$$\\text{IQR}=\\text{Q3}−\\text{Q1}$$\n",
    "\n",
    "Then the box plot uses the following calculations for the fences (or cutoff values):\n",
    "\n",
    "- Upper Fence = Q3 + 1.5 * IQR\n",
    "- Lower Fence = Q1 − 1.5 * IQR\n",
    "\n",
    "You should be able to detect outliers using either method both by hand and with statistical software like R."
   ]
  },
  {
   "cell_type": "code",
   "execution_count": null,
   "id": "polyphonic-devon",
   "metadata": {},
   "outputs": [],
   "source": []
  },
  {
   "cell_type": "code",
   "execution_count": null,
   "id": "undefined-savannah",
   "metadata": {},
   "outputs": [],
   "source": []
  },
  {
   "cell_type": "markdown",
   "id": "ranging-british",
   "metadata": {},
   "source": [
    "## Visualization Example: Old Faithful Geyser\n",
    "\n",
    "R has preloaded data sets like faithful, a data frame with two variables: eruptions and waiting. Both are time variables. Eruptions is number of seconds the eruptions lasted. Waiting is the time interval between eruptions. By just typing the name of the data frame, R will print out a preview. Again, we will use the **head** function to print a preview rather than the entire 272 rows of data:"
   ]
  },
  {
   "cell_type": "code",
   "execution_count": 63,
   "id": "lucky-acting",
   "metadata": {},
   "outputs": [
    {
     "data": {
      "text/html": [
       "<table>\n",
       "<caption>A data.frame: 7 × 2</caption>\n",
       "<thead>\n",
       "\t<tr><th></th><th scope=col>eruptions</th><th scope=col>waiting</th></tr>\n",
       "\t<tr><th></th><th scope=col>&lt;dbl&gt;</th><th scope=col>&lt;dbl&gt;</th></tr>\n",
       "</thead>\n",
       "<tbody>\n",
       "\t<tr><th scope=row>1</th><td>3.600</td><td>79</td></tr>\n",
       "\t<tr><th scope=row>2</th><td>1.800</td><td>54</td></tr>\n",
       "\t<tr><th scope=row>3</th><td>3.333</td><td>74</td></tr>\n",
       "\t<tr><th scope=row>4</th><td>2.283</td><td>62</td></tr>\n",
       "\t<tr><th scope=row>5</th><td>4.533</td><td>85</td></tr>\n",
       "\t<tr><th scope=row>6</th><td>2.883</td><td>55</td></tr>\n",
       "\t<tr><th scope=row>7</th><td>4.700</td><td>88</td></tr>\n",
       "</tbody>\n",
       "</table>\n"
      ],
      "text/latex": [
       "A data.frame: 7 × 2\n",
       "\\begin{tabular}{r|ll}\n",
       "  & eruptions & waiting\\\\\n",
       "  & <dbl> & <dbl>\\\\\n",
       "\\hline\n",
       "\t1 & 3.600 & 79\\\\\n",
       "\t2 & 1.800 & 54\\\\\n",
       "\t3 & 3.333 & 74\\\\\n",
       "\t4 & 2.283 & 62\\\\\n",
       "\t5 & 4.533 & 85\\\\\n",
       "\t6 & 2.883 & 55\\\\\n",
       "\t7 & 4.700 & 88\\\\\n",
       "\\end{tabular}\n"
      ],
      "text/markdown": [
       "\n",
       "A data.frame: 7 × 2\n",
       "\n",
       "| <!--/--> | eruptions &lt;dbl&gt; | waiting &lt;dbl&gt; |\n",
       "|---|---|---|\n",
       "| 1 | 3.600 | 79 |\n",
       "| 2 | 1.800 | 54 |\n",
       "| 3 | 3.333 | 74 |\n",
       "| 4 | 2.283 | 62 |\n",
       "| 5 | 4.533 | 85 |\n",
       "| 6 | 2.883 | 55 |\n",
       "| 7 | 4.700 | 88 |\n",
       "\n"
      ],
      "text/plain": [
       "  eruptions waiting\n",
       "1 3.600     79     \n",
       "2 1.800     54     \n",
       "3 3.333     74     \n",
       "4 2.283     62     \n",
       "5 4.533     85     \n",
       "6 2.883     55     \n",
       "7 4.700     88     "
      ]
     },
     "metadata": {},
     "output_type": "display_data"
    }
   ],
   "source": [
    "head(faithful, 7)"
   ]
  },
  {
   "cell_type": "markdown",
   "id": "authorized-glass",
   "metadata": {},
   "source": [
    "### Two Variable Plots\n",
    "\n",
    "One might wonder if longer waiting times correlate with longer eruptions. Perhaps more pressure builds up, then when released the eruptions last longer. Let’s check a scatter plot. The first argument is the form y∼x. The y-variable is the dependent variable, the x-variable independent. In this setup, we are implicitly suggesting that the variable eruptions depends upon the variable waiting. If we reverse the order, we reverse the implicit dependence."
   ]
  },
  {
   "cell_type": "code",
   "execution_count": 64,
   "id": "wrong-imaging",
   "metadata": {},
   "outputs": [
    {
     "data": {
      "image/png": "[encoded data removed]",
      "text/plain": [
       "plot without title"
      ]
     },
     "metadata": {
      "image/png": {
       "height": 420,
       "width": 420
      }
     },
     "output_type": "display_data"
    }
   ],
   "source": [
    "plot(eruptions ~ waiting, data = faithful)"
   ]
  },
  {
   "cell_type": "markdown",
   "id": "iraqi-appendix",
   "metadata": {},
   "source": [
    "There does seem to be a positive association here."
   ]
  },
  {
   "cell_type": "code",
   "execution_count": null,
   "id": "mental-chorus",
   "metadata": {},
   "outputs": [],
   "source": []
  },
  {
   "cell_type": "markdown",
   "id": "marine-action",
   "metadata": {},
   "source": [
    "## Data Analysis Example with Births\n",
    "\n",
    "We will need to read in the data from a URL. The original data is from the *mosaic* package in R. I have a copy linked on my faculty web page."
   ]
  },
  {
   "cell_type": "code",
   "execution_count": 83,
   "id": "extensive-relief",
   "metadata": {},
   "outputs": [
    {
     "data": {
      "text/html": [
       "<table>\n",
       "<caption>A data.frame: 6 × 9</caption>\n",
       "<thead>\n",
       "\t<tr><th></th><th scope=col>rownames</th><th scope=col>date</th><th scope=col>births</th><th scope=col>wday</th><th scope=col>year</th><th scope=col>month</th><th scope=col>day_of_year</th><th scope=col>day_of_month</th><th scope=col>day_of_week</th></tr>\n",
       "\t<tr><th></th><th scope=col>&lt;int&gt;</th><th scope=col>&lt;chr&gt;</th><th scope=col>&lt;int&gt;</th><th scope=col>&lt;chr&gt;</th><th scope=col>&lt;int&gt;</th><th scope=col>&lt;int&gt;</th><th scope=col>&lt;int&gt;</th><th scope=col>&lt;int&gt;</th><th scope=col>&lt;int&gt;</th></tr>\n",
       "</thead>\n",
       "<tbody>\n",
       "\t<tr><th scope=row>1</th><td>1</td><td>1978-01-01</td><td>7701</td><td>Sun</td><td>1978</td><td>1</td><td>1</td><td>1</td><td>1</td></tr>\n",
       "\t<tr><th scope=row>2</th><td>2</td><td>1978-01-02</td><td>7527</td><td>Mon</td><td>1978</td><td>1</td><td>2</td><td>2</td><td>2</td></tr>\n",
       "\t<tr><th scope=row>3</th><td>3</td><td>1978-01-03</td><td>8825</td><td>Tue</td><td>1978</td><td>1</td><td>3</td><td>3</td><td>3</td></tr>\n",
       "\t<tr><th scope=row>4</th><td>4</td><td>1978-01-04</td><td>8859</td><td>Wed</td><td>1978</td><td>1</td><td>4</td><td>4</td><td>4</td></tr>\n",
       "\t<tr><th scope=row>5</th><td>5</td><td>1978-01-05</td><td>9043</td><td>Thu</td><td>1978</td><td>1</td><td>5</td><td>5</td><td>5</td></tr>\n",
       "\t<tr><th scope=row>6</th><td>6</td><td>1978-01-06</td><td>9208</td><td>Fri</td><td>1978</td><td>1</td><td>6</td><td>6</td><td>6</td></tr>\n",
       "</tbody>\n",
       "</table>\n"
      ],
      "text/latex": [
       "A data.frame: 6 × 9\n",
       "\\begin{tabular}{r|lllllllll}\n",
       "  & rownames & date & births & wday & year & month & day\\_of\\_year & day\\_of\\_month & day\\_of\\_week\\\\\n",
       "  & <int> & <chr> & <int> & <chr> & <int> & <int> & <int> & <int> & <int>\\\\\n",
       "\\hline\n",
       "\t1 & 1 & 1978-01-01 & 7701 & Sun & 1978 & 1 & 1 & 1 & 1\\\\\n",
       "\t2 & 2 & 1978-01-02 & 7527 & Mon & 1978 & 1 & 2 & 2 & 2\\\\\n",
       "\t3 & 3 & 1978-01-03 & 8825 & Tue & 1978 & 1 & 3 & 3 & 3\\\\\n",
       "\t4 & 4 & 1978-01-04 & 8859 & Wed & 1978 & 1 & 4 & 4 & 4\\\\\n",
       "\t5 & 5 & 1978-01-05 & 9043 & Thu & 1978 & 1 & 5 & 5 & 5\\\\\n",
       "\t6 & 6 & 1978-01-06 & 9208 & Fri & 1978 & 1 & 6 & 6 & 6\\\\\n",
       "\\end{tabular}\n"
      ],
      "text/markdown": [
       "\n",
       "A data.frame: 6 × 9\n",
       "\n",
       "| <!--/--> | rownames &lt;int&gt; | date &lt;chr&gt; | births &lt;int&gt; | wday &lt;chr&gt; | year &lt;int&gt; | month &lt;int&gt; | day_of_year &lt;int&gt; | day_of_month &lt;int&gt; | day_of_week &lt;int&gt; |\n",
       "|---|---|---|---|---|---|---|---|---|---|\n",
       "| 1 | 1 | 1978-01-01 | 7701 | Sun | 1978 | 1 | 1 | 1 | 1 |\n",
       "| 2 | 2 | 1978-01-02 | 7527 | Mon | 1978 | 1 | 2 | 2 | 2 |\n",
       "| 3 | 3 | 1978-01-03 | 8825 | Tue | 1978 | 1 | 3 | 3 | 3 |\n",
       "| 4 | 4 | 1978-01-04 | 8859 | Wed | 1978 | 1 | 4 | 4 | 4 |\n",
       "| 5 | 5 | 1978-01-05 | 9043 | Thu | 1978 | 1 | 5 | 5 | 5 |\n",
       "| 6 | 6 | 1978-01-06 | 9208 | Fri | 1978 | 1 | 6 | 6 | 6 |\n",
       "\n"
      ],
      "text/plain": [
       "  rownames date       births wday year month day_of_year day_of_month\n",
       "1 1        1978-01-01 7701   Sun  1978 1     1           1           \n",
       "2 2        1978-01-02 7527   Mon  1978 1     2           2           \n",
       "3 3        1978-01-03 8825   Tue  1978 1     3           3           \n",
       "4 4        1978-01-04 8859   Wed  1978 1     4           4           \n",
       "5 5        1978-01-05 9043   Thu  1978 1     5           5           \n",
       "6 6        1978-01-06 9208   Fri  1978 1     6           6           \n",
       "  day_of_week\n",
       "1 1          \n",
       "2 2          \n",
       "3 3          \n",
       "4 4          \n",
       "5 5          \n",
       "6 6          "
      ]
     },
     "metadata": {},
     "output_type": "display_data"
    }
   ],
   "source": [
    "bd <- read.csv('https://faculty.ung.edu/rsinn/Births78.csv')\n",
    "head(b)"
   ]
  },
  {
   "cell_type": "code",
   "execution_count": 86,
   "id": "executive-singer",
   "metadata": {},
   "outputs": [
    {
     "data": {
      "image/png": "[encoded data removed]",
      "text/plain": [
       "Plot with title “Births vs. Day of Year for 1978”"
      ]
     },
     "metadata": {
      "image/png": {
       "height": 420,
       "width": 420
      }
     },
     "output_type": "display_data"
    }
   ],
   "source": [
    "plot(births ~ day_of_year, data = bd,\n",
    "       main = \"Births vs. Day of Year for 1978\",\n",
    "       xlab = \"Day of Year\",\n",
    "       ylab = \"Births\")"
   ]
  },
  {
   "cell_type": "code",
   "execution_count": null,
   "id": "offensive-barcelona",
   "metadata": {},
   "outputs": [],
   "source": []
  },
  {
   "cell_type": "code",
   "execution_count": null,
   "id": "funny-speed",
   "metadata": {},
   "outputs": [],
   "source": []
  },
  {
   "cell_type": "code",
   "execution_count": null,
   "id": "cathedral-invitation",
   "metadata": {},
   "outputs": [],
   "source": []
  },
  {
   "cell_type": "code",
   "execution_count": null,
   "id": "extended-failure",
   "metadata": {},
   "outputs": [],
   "source": []
  }
 ],
 "metadata": {
  "kernelspec": {
   "display_name": "R",
   "language": "R",
   "name": "ir"
  },
  "language_info": {
   "codemirror_mode": "r",
   "file_extension": ".r",
   "mimetype": "text/x-r-source",
   "name": "R",
   "pygments_lexer": "r",
   "version": "4.0.3"
  }
 },
 "nbformat": 4,
 "nbformat_minor": 5
}
