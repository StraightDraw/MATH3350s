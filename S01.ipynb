{
 "cells": [
  {
   "cell_type": "markdown",
   "id": "convinced-constitutional",
   "metadata": {},
   "source": [
    "# Class Notebook 1"
   ]
  },
  {
   "cell_type": "markdown",
   "id": "social-board",
   "metadata": {},
   "source": [
    "This notebook will feature an introduction to the statistical programming language R and some of its basic features. The general topic here is **exploratory data analysis**."
   ]
  },
  {
   "cell_type": "markdown",
   "id": "collective-logging",
   "metadata": {},
   "source": [
    "## Reading in a Dataframe from URL\n",
    "\n",
    "Before R can begin its work for us, we need to load some data. Quite often, data sets are stored in Excel spreadsheets in CSV format. Here is the command to load a CSV file. Note that we can simply call the URL where the file is stored using the versatile command:\n",
    "\n",
    "<center><b>read.csv</b></center>\n",
    "\n",
    "The **personality** data were collected from 2010 to 2012. The respondents were UNG Dahlonega students in Elementary Statistics courses. The data set was developed pursuant to an undergraduate research project about sense of humor. Let's load the data into the variable \"pers\"."
   ]
  },
  {
   "cell_type": "code",
   "execution_count": null,
   "id": "nervous-exemption",
   "metadata": {},
   "outputs": [],
   "source": [
    "pers <- read.csv(\"https://faculty.ung.edu/rsinn/personality.csv\")"
   ]
  },
  {
   "cell_type": "markdown",
   "id": "cardiac-mount",
   "metadata": {},
   "source": [
    "To view the data, we can type the variable name \"pers\". Yet, the whole data frame will be displayed which, for large data sets, may be undesirable. Instead, we can use the\n",
    "\n",
    "<center><b>head</b></center>\n",
    "\n",
    "command which allows us to print only the top few rows of the data frame. Try this:"
   ]
  },
  {
   "cell_type": "code",
   "execution_count": null,
   "id": "bright-receptor",
   "metadata": {},
   "outputs": [],
   "source": [
    "head(pers, 5)"
   ]
  },
  {
   "cell_type": "markdown",
   "id": "foster-crown",
   "metadata": {},
   "source": [
    "# Exploring the Data Set\n",
    "\n",
    "Each column is a variable in our data set, and each row is an individual. To explore the data set and find out what items are in it, we can use\n",
    "\n",
    "<center><b>colnames</b></center>\n",
    "<center><b>nrow</b></center>\n",
    "<center><b>ncol</b></center>\n",
    "\n",
    "Let's take a look under the hood of the personality data frame."
   ]
  },
  {
   "cell_type": "code",
   "execution_count": null,
   "id": "junior-entrance",
   "metadata": {},
   "outputs": [],
   "source": [
    "nrow(pers)"
   ]
  },
  {
   "cell_type": "code",
   "execution_count": null,
   "id": "direct-designer",
   "metadata": {},
   "outputs": [],
   "source": [
    "ncol(pers)"
   ]
  },
  {
   "cell_type": "markdown",
   "id": "proof-upper",
   "metadata": {},
   "source": [
    "We find that we have data from 129 students on 36 different variables. To see the names of the variables (e.g. column titles), run the code below."
   ]
  },
  {
   "cell_type": "code",
   "execution_count": null,
   "id": "optical-poker",
   "metadata": {},
   "outputs": [],
   "source": [
    "colnames(pers)"
   ]
  },
  {
   "cell_type": "code",
   "execution_count": null,
   "id": "bound-terrorism",
   "metadata": {},
   "outputs": [],
   "source": []
  },
  {
   "cell_type": "code",
   "execution_count": null,
   "id": "convenient-luther",
   "metadata": {},
   "outputs": [],
   "source": []
  },
  {
   "cell_type": "markdown",
   "id": "gentle-carrier",
   "metadata": {},
   "source": [
    "## Accessing a Specific Column in a Data Frame\n",
    "\n",
    "To work with individual variables, we use the dollar symbol (\\$) after the data frame title. In the example below, we are accessing a variable **Caff** where students reported the number of 8 oz. servings of caffeine they had consumed in the previous 24 hours."
   ]
  },
  {
   "cell_type": "code",
   "execution_count": null,
   "id": "wound-welding",
   "metadata": {},
   "outputs": [],
   "source": [
    "Caffeine <- pers$Caff"
   ]
  },
  {
   "cell_type": "markdown",
   "id": "colored-virtue",
   "metadata": {},
   "source": [
    "Let's find the average and standard deviation of this data."
   ]
  },
  {
   "cell_type": "code",
   "execution_count": null,
   "id": "binary-alpha",
   "metadata": {},
   "outputs": [],
   "source": [
    "mean(Caffeine)"
   ]
  },
  {
   "cell_type": "code",
   "execution_count": null,
   "id": "insured-vampire",
   "metadata": {},
   "outputs": [],
   "source": [
    "sd(Caffeine)"
   ]
  },
  {
   "cell_type": "code",
   "execution_count": null,
   "id": "ideal-manufacturer",
   "metadata": {},
   "outputs": [],
   "source": []
  },
  {
   "cell_type": "markdown",
   "id": "unnecessary-roads",
   "metadata": {},
   "source": [
    "### The cat Function\n",
    "\n",
    "The **cat** function combines two function into one:\n",
    "- concatenation \n",
    "- print\n",
    "\n",
    "The **cat** function and turns out to be quite useful. While the print function can be unwieldy at times, the **cat** function tends to work very well.\n",
    "\n",
    "Concatenation means to \"join together.\" Thus, the **cat** function allows us to join together strings of text and even variable outputs to display results from R nicely in our notebook. Here's an example where we store the mean and standard deviation in the variables **m** and **s** respectively.\n",
    "\n",
    "Note that the command **summary** gathers the values of the **5-Number Summary**."
   ]
  },
  {
   "cell_type": "code",
   "execution_count": null,
   "id": "running-number",
   "metadata": {},
   "outputs": [],
   "source": [
    "m <- mean(Caffeine)"
   ]
  },
  {
   "cell_type": "code",
   "execution_count": null,
   "id": "acquired-ability",
   "metadata": {},
   "outputs": [],
   "source": [
    "s <- sd(Caffeine)"
   ]
  },
  {
   "cell_type": "code",
   "execution_count": null,
   "id": "registered-trick",
   "metadata": {},
   "outputs": [],
   "source": [
    "cat (\"For this data, we have: \\nmean =\", m, \"\\nstandard deviation =\", s,\"\\n\\nThe five number summary is shown below.\")\n",
    "summary(Caffeine)"
   ]
  },
  {
   "cell_type": "code",
   "execution_count": null,
   "id": "precious-charles",
   "metadata": {},
   "outputs": [],
   "source": []
  },
  {
   "cell_type": "code",
   "execution_count": null,
   "id": "final-infrastructure",
   "metadata": {},
   "outputs": [],
   "source": []
  },
  {
   "cell_type": "markdown",
   "id": "activated-clinic",
   "metadata": {},
   "source": [
    "## Data Visulations\n",
    "\n",
    "With the advent of data science, data visulizations have grown quite sophisticated. We will address the basic visulations here, the traditional graphics that have been used in statistics for decades:\n",
    "\n",
    "1. Histograms\n",
    "2. Box Plots\n",
    "3. Scatter Plots"
   ]
  },
  {
   "cell_type": "markdown",
   "id": "conditional-manitoba",
   "metadata": {},
   "source": [
    "### Histograms"
   ]
  },
  {
   "cell_type": "code",
   "execution_count": null,
   "id": "wanted-jewel",
   "metadata": {},
   "outputs": [],
   "source": [
    "We can use the variable we created (e.g. Caffeine), or we can access the data for our histogram directly as is shown below:"
   ]
  },
  {
   "cell_type": "code",
   "execution_count": null,
   "id": "brown-malpractice",
   "metadata": {
    "scrolled": true
   },
   "outputs": [],
   "source": [
    "hist(pers$Caff)"
   ]
  },
  {
   "cell_type": "markdown",
   "id": "important-webcam",
   "metadata": {},
   "source": [
    "The function **hist** has several options the most-often used of which is **breaks**. Turns out, stats software is pretty poor at creating histograms. Often, the results are readable. However, sometimes more or fewer intervals (called \"bins\") along the $x$-axis improve the readability of the histogram in a stunning way."
   ]
  },
  {
   "cell_type": "code",
   "execution_count": null,
   "id": "elementary-coast",
   "metadata": {},
   "outputs": [],
   "source": [
    "hist(pers$Caff, breaks = 5)"
   ]
  },
  {
   "cell_type": "markdown",
   "id": "connected-atmosphere",
   "metadata": {},
   "source": [
    "Notice how having fewer breaks or bins enlarges the intervals along the $x$-axis so we have fewer bars in our histogram. The process of finding the correct number of breaks is more art than science and can be frustrating. However, let's leave that for later. Right now, the standard histograms will work well for us."
   ]
  },
  {
   "cell_type": "code",
   "execution_count": null,
   "id": "textile-sunglasses",
   "metadata": {},
   "outputs": [],
   "source": []
  },
  {
   "cell_type": "code",
   "execution_count": null,
   "id": "quarterly-worse",
   "metadata": {},
   "outputs": [],
   "source": []
  },
  {
   "cell_type": "markdown",
   "id": "grave-ambassador",
   "metadata": {},
   "source": [
    "### Box Plots\n",
    "\n",
    "The **5-Number Summary** displays the following:\n",
    "- min\n",
    "- Q1 or 25th percentile\n",
    "- median\n",
    "- Q3 or 75th percentile\n",
    "- max\n",
    "\n",
    "If you consider these values for a moment, you'll realize that they divide the data into quartiles. While the *mean* and *standard deviation* are the most often used descriptive statsitics, the 5-Number Summary turns out to be especially useful when the data are skewed or have outliers."
   ]
  },
  {
   "cell_type": "code",
   "execution_count": null,
   "id": "instructional-proceeding",
   "metadata": {},
   "outputs": [],
   "source": [
    "boxplot(pers$Caff)"
   ]
  },
  {
   "cell_type": "markdown",
   "id": "permanent-paris",
   "metadata": {},
   "source": [
    "The standard box plot also checks for outliers which are designated as small circles above or below the box plot. We can also plot the **Sleep** variable which asked for the total number of sleep hours in the past 48 hours including naps. The responses were divided by $2$ to indicate an average amount of sleep per day."
   ]
  },
  {
   "cell_type": "code",
   "execution_count": null,
   "id": "danish-mobility",
   "metadata": {},
   "outputs": [],
   "source": [
    "boxplot(pers$Sleep)"
   ]
  },
  {
   "cell_type": "markdown",
   "id": "burning-couple",
   "metadata": {},
   "source": [
    "Please note that there are **FIVE** horizontal lines in the box plot, one each for the values of the 5-Number Summary. We need a few options here. The following shows how to add titles and how to change the colors of the box and of the lines. Also, we can flip the box plot to horizontal instead of vertical positioning."
   ]
  },
  {
   "cell_type": "code",
   "execution_count": null,
   "id": "indirect-service",
   "metadata": {},
   "outputs": [],
   "source": [
    "boxplot(pers$Sleep,\n",
    "main = \"Hours of Sleep per Day for College Students\",\n",
    "xlab = \"Sleep Hours\",\n",
    "ylab = \"Counts\",\n",
    "col = \"red\",\n",
    "border = \"blue\",\n",
    "horizontal = TRUE\n",
    ")"
   ]
  },
  {
   "cell_type": "markdown",
   "id": "thorough-lotus",
   "metadata": {},
   "source": [
    "The titles are useful and work similarly for other plots we create."
   ]
  },
  {
   "cell_type": "code",
   "execution_count": null,
   "id": "superb-surfing",
   "metadata": {},
   "outputs": [],
   "source": []
  },
  {
   "cell_type": "code",
   "execution_count": null,
   "id": "motivated-badge",
   "metadata": {},
   "outputs": [],
   "source": []
  },
  {
   "cell_type": "markdown",
   "id": "failing-boring",
   "metadata": {},
   "source": [
    "### Scatter Plots\n",
    "\n",
    "Are two numeric variables associated in some way? How would we be able to determine this? The answer is the scatter plot which plots a cloud of points. If there is a pattern to the data, we will be able to see it. The example below shows the basic format on the top line with titles added below that."
   ]
  },
  {
   "cell_type": "code",
   "execution_count": null,
   "id": "emotional-reporter",
   "metadata": {},
   "outputs": [],
   "source": [
    "plot(x= pers$Sleep, y = pers$Caff, \n",
    "     main = \"Sleep vs. Caffeine Consumption\",\n",
    "     xlab = \"Sleep Hours\", \n",
    "     ylab = \"Servings of Caffeine\")"
   ]
  },
  {
   "cell_type": "markdown",
   "id": "cordless-hybrid",
   "metadata": {},
   "source": [
    "We can add a trendline to our scatter plot as, quite often, the cloud of points has no descernable pattern. We are creating a linear model using the **lm** function, and plotting that superimposed on the scatter plot below it."
   ]
  },
  {
   "cell_type": "code",
   "execution_count": null,
   "id": "responsible-colleague",
   "metadata": {},
   "outputs": [],
   "source": [
    "plot(x= pers$Sleep, y = pers$Caff, \n",
    "     main = \"Sleep vs. Caffeine Consumption\",\n",
    "     xlab = \"Sleep Hours\", \n",
    "     ylab = \"Servings of Caffeine\")\n",
    "model <- lm(Caff ~ Sleep, data = pers)\n",
    "abline(model, col = \"red\") "
   ]
  },
  {
   "cell_type": "markdown",
   "id": "electronic-cleaning",
   "metadata": {},
   "source": [
    "We see that there is a slight negative association between sleep hours and caffeine intake. As sleep hours increase, the amount of caffeine consumed decreases. The following rules apply to interprestting the trendline (e.g. line of best fit):\n",
    "\n",
    "1. If the trendline is horizontal, there is no relationship at all between the variables.\n",
    "2. If the trendline has positive slope, we have a positive association between the varirables.\n",
    "3. If the trendline has negative slope, we have a negative association between the varirables.\n",
    "\n",
    "If the trendline has a slope that is significantly different than zero, we have evidence to search for a correlation between the two variables."
   ]
  },
  {
   "cell_type": "markdown",
   "id": "measured-anthropology",
   "metadata": {},
   "source": [
    "## Time to Explore\n",
    "\n",
    "You need to be able to implement the functions shown above quickly and accurately for this course. "
   ]
  },
  {
   "cell_type": "markdown",
   "id": "maritime-roller",
   "metadata": {},
   "source": [
    "### Single Variable Visulations\n",
    "\n",
    "Try using the following variables for single-variable visualizations and for descriptive statstics:\n",
    "- Narcissism (Narc)\n",
    "- GPA (GPA)\n",
    "- Thrill-Seeking (Thrill)\n",
    "- Extroversion (Extro)\n",
    "- Toxic Relationship Beliefs (TxRel)\n",
    "- Optimism (Opt)\n",
    "- Perfectionism (Perf)\n",
    "- Coping Humor (CHS)\n",
    "- OCD Indicators (OCD)"
   ]
  },
  {
   "cell_type": "markdown",
   "id": "packed-coverage",
   "metadata": {},
   "source": [
    "### Two Variable Visulations\n",
    "\n",
    "Try using the following variables to detect potential correlation.\n",
    "- Perf vs. Opt\n",
    "- Thrill vs. Extro\n",
    "- CHS vs. Opt\n",
    "- Extro vs. CHS\n",
    "- Any other pair of variables you think may be correlated"
   ]
  },
  {
   "cell_type": "markdown",
   "id": "registered-reconstruction",
   "metadata": {},
   "source": [
    "### Start Working Below"
   ]
  },
  {
   "cell_type": "code",
   "execution_count": null,
   "id": "competent-measure",
   "metadata": {},
   "outputs": [],
   "source": []
  },
  {
   "cell_type": "code",
   "execution_count": null,
   "id": "political-testing",
   "metadata": {},
   "outputs": [],
   "source": []
  },
  {
   "cell_type": "code",
   "execution_count": null,
   "id": "likely-funeral",
   "metadata": {},
   "outputs": [],
   "source": []
  },
  {
   "cell_type": "code",
   "execution_count": null,
   "id": "successful-information",
   "metadata": {},
   "outputs": [],
   "source": []
  },
  {
   "cell_type": "code",
   "execution_count": null,
   "id": "hungry-surge",
   "metadata": {},
   "outputs": [],
   "source": []
  },
  {
   "cell_type": "code",
   "execution_count": null,
   "id": "orange-company",
   "metadata": {},
   "outputs": [],
   "source": []
  }
 ],
 "metadata": {
  "kernelspec": {
   "display_name": "R",
   "language": "R",
   "name": "ir"
  },
  "language_info": {
   "codemirror_mode": "r",
   "file_extension": ".r",
   "mimetype": "text/x-r-source",
   "name": "R",
   "pygments_lexer": "r",
   "version": "4.0.3"
  }
 },
 "nbformat": 4,
 "nbformat_minor": 5
}
