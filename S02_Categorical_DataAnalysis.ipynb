{
 "cells": [
  {
   "cell_type": "markdown",
   "id": "recorded-sessions",
   "metadata": {},
   "source": [
    "# Categorical Data Analysis\n",
    "\n",
    "Let's load the **personality** data set as the variable **p** as it has several categorical (or qualitative) variables."
   ]
  },
  {
   "cell_type": "code",
   "execution_count": 35,
   "id": "convertible-glucose",
   "metadata": {},
   "outputs": [
    {
     "data": {
      "text/html": [
       "<table>\n",
       "<thead><tr><th scope=col>Age</th><th scope=col>Yr</th><th scope=col>Sex</th><th scope=col>G21</th><th scope=col>Corps</th><th scope=col>Res</th><th scope=col>Greek</th><th scope=col>VarsAth</th><th scope=col>Honor</th><th scope=col>GPA</th><th scope=col>...</th><th scope=col>Perf</th><th scope=col>OCD</th><th scope=col>Play</th><th scope=col>Extro</th><th scope=col>Narc</th><th scope=col>HSAF</th><th scope=col>HSSE</th><th scope=col>HSAG</th><th scope=col>HSSD</th><th scope=col>PHS</th></tr></thead>\n",
       "<tbody>\n",
       "\t<tr><td>21  </td><td>2   </td><td>M   </td><td>Y   </td><td>Y   </td><td>1   </td><td>N   </td><td>N   </td><td>N   </td><td>3.23</td><td>... </td><td>105 </td><td>10  </td><td>142 </td><td> 8  </td><td>11  </td><td>41  </td><td>40  </td><td>26  </td><td>27  </td><td>SE  </td></tr>\n",
       "\t<tr><td>20  </td><td>3   </td><td>F   </td><td>N   </td><td>N   </td><td>2   </td><td>Y   </td><td>N   </td><td>Y   </td><td>3.95</td><td>... </td><td>105 </td><td> 3  </td><td>172 </td><td>16  </td><td>11  </td><td>46  </td><td>52  </td><td>26  </td><td>33  </td><td>SE  </td></tr>\n",
       "\t<tr><td>22  </td><td>3   </td><td>M   </td><td>Y   </td><td>N   </td><td>2   </td><td>N   </td><td>N   </td><td>N   </td><td>3.06</td><td>... </td><td> 73 </td><td> 1  </td><td>134 </td><td>15  </td><td>11  </td><td>48  </td><td>42  </td><td>44  </td><td>29  </td><td>AG  </td></tr>\n",
       "\t<tr><td>27  </td><td>3   </td><td>F   </td><td>Y   </td><td>N   </td><td>3   </td><td>N   </td><td>N   </td><td>N   </td><td>2.84</td><td>... </td><td> 90 </td><td> 9  </td><td>160 </td><td>16  </td><td>10  </td><td>51  </td><td>51  </td><td>23  </td><td>19  </td><td>SE  </td></tr>\n",
       "</tbody>\n",
       "</table>\n"
      ],
      "text/latex": [
       "\\begin{tabular}{r|llllllllllllllllllllllllllllllllllll}\n",
       " Age & Yr & Sex & G21 & Corps & Res & Greek & VarsAth & Honor & GPA & ... & Perf & OCD & Play & Extro & Narc & HSAF & HSSE & HSAG & HSSD & PHS\\\\\n",
       "\\hline\n",
       "\t 21   & 2    & M    & Y    & Y    & 1    & N    & N    & N    & 3.23 & ...  & 105  & 10   & 142  &  8   & 11   & 41   & 40   & 26   & 27   & SE  \\\\\n",
       "\t 20   & 3    & F    & N    & N    & 2    & Y    & N    & Y    & 3.95 & ...  & 105  &  3   & 172  & 16   & 11   & 46   & 52   & 26   & 33   & SE  \\\\\n",
       "\t 22   & 3    & M    & Y    & N    & 2    & N    & N    & N    & 3.06 & ...  &  73  &  1   & 134  & 15   & 11   & 48   & 42   & 44   & 29   & AG  \\\\\n",
       "\t 27   & 3    & F    & Y    & N    & 3    & N    & N    & N    & 2.84 & ...  &  90  &  9   & 160  & 16   & 10   & 51   & 51   & 23   & 19   & SE  \\\\\n",
       "\\end{tabular}\n"
      ],
      "text/markdown": [
       "\n",
       "| Age | Yr | Sex | G21 | Corps | Res | Greek | VarsAth | Honor | GPA | ... | Perf | OCD | Play | Extro | Narc | HSAF | HSSE | HSAG | HSSD | PHS |\n",
       "|---|---|---|---|---|---|---|---|---|---|---|---|---|---|---|---|---|---|---|---|---|\n",
       "| 21   | 2    | M    | Y    | Y    | 1    | N    | N    | N    | 3.23 | ...  | 105  | 10   | 142  |  8   | 11   | 41   | 40   | 26   | 27   | SE   |\n",
       "| 20   | 3    | F    | N    | N    | 2    | Y    | N    | Y    | 3.95 | ...  | 105  |  3   | 172  | 16   | 11   | 46   | 52   | 26   | 33   | SE   |\n",
       "| 22   | 3    | M    | Y    | N    | 2    | N    | N    | N    | 3.06 | ...  |  73  |  1   | 134  | 15   | 11   | 48   | 42   | 44   | 29   | AG   |\n",
       "| 27   | 3    | F    | Y    | N    | 3    | N    | N    | N    | 2.84 | ...  |  90  |  9   | 160  | 16   | 10   | 51   | 51   | 23   | 19   | SE   |\n",
       "\n"
      ],
      "text/plain": [
       "  Age Yr Sex G21 Corps Res Greek VarsAth Honor GPA  ... Perf OCD Play Extro\n",
       "1 21  2  M   Y   Y     1   N     N       N     3.23 ... 105  10  142   8   \n",
       "2 20  3  F   N   N     2   Y     N       Y     3.95 ... 105   3  172  16   \n",
       "3 22  3  M   Y   N     2   N     N       N     3.06 ...  73   1  134  15   \n",
       "4 27  3  F   Y   N     3   N     N       N     2.84 ...  90   9  160  16   \n",
       "  Narc HSAF HSSE HSAG HSSD PHS\n",
       "1 11   41   40   26   27   SE \n",
       "2 11   46   52   26   33   SE \n",
       "3 11   48   42   44   29   AG \n",
       "4 10   51   51   23   19   SE "
      ]
     },
     "metadata": {},
     "output_type": "display_data"
    }
   ],
   "source": [
    "pers <- read.csv('https://faculty.ung.edu/rsinn/personality.csv')\n",
    "head(p, 4)"
   ]
  },
  {
   "cell_type": "markdown",
   "id": "appointed-stand",
   "metadata": {},
   "source": [
    "Let's first create an example data set with 3 variables which will be a subset of the *personality* data set **p**. Two columns will be qualitative while one will be numeric.\n",
    "\n",
    "1. **Sex.** Qualitative: the biological sex of the participant.\n",
    "2. **AccDate.** Qualitative: the Yes/No answer to the question: \"At a time in you life when you are not romantically involved with anyone, someone asks you out. You find this person has a wondeful personality, but you do not find this person physically attractive. Do you accept the date?\"\n",
    "3. **Narc** Qantitative: the participant's score on a measure of Narcissism (higher values indicate more narcissism."
   ]
  },
  {
   "cell_type": "markdown",
   "id": "appropriate-museum",
   "metadata": {},
   "source": [
    "## Subsetting Columns in a Data Frame"
   ]
  },
  {
   "cell_type": "markdown",
   "id": "invisible-pulse",
   "metadata": {},
   "source": [
    "**By Column Numbers.** To create a new data frame from the original, we can select only certain column numbers to show:"
   ]
  },
  {
   "cell_type": "code",
   "execution_count": 36,
   "id": "contained-thesis",
   "metadata": {},
   "outputs": [
    {
     "data": {
      "text/html": [
       "<table>\n",
       "<thead><tr><th scope=col>Age</th><th scope=col>Yr</th><th scope=col>Sex</th><th scope=col>G21</th><th scope=col>Corps</th><th scope=col>Res</th><th scope=col>Greek</th><th scope=col>VarsAth</th></tr></thead>\n",
       "<tbody>\n",
       "\t<tr><td>21</td><td>2 </td><td>M </td><td>Y </td><td>Y </td><td>1 </td><td>N </td><td>N </td></tr>\n",
       "\t<tr><td>20</td><td>3 </td><td>F </td><td>N </td><td>N </td><td>2 </td><td>Y </td><td>N </td></tr>\n",
       "\t<tr><td>22</td><td>3 </td><td>M </td><td>Y </td><td>N </td><td>2 </td><td>N </td><td>N </td></tr>\n",
       "</tbody>\n",
       "</table>\n"
      ],
      "text/latex": [
       "\\begin{tabular}{r|llllllll}\n",
       " Age & Yr & Sex & G21 & Corps & Res & Greek & VarsAth\\\\\n",
       "\\hline\n",
       "\t 21 & 2  & M  & Y  & Y  & 1  & N  & N \\\\\n",
       "\t 20 & 3  & F  & N  & N  & 2  & Y  & N \\\\\n",
       "\t 22 & 3  & M  & Y  & N  & 2  & N  & N \\\\\n",
       "\\end{tabular}\n"
      ],
      "text/markdown": [
       "\n",
       "| Age | Yr | Sex | G21 | Corps | Res | Greek | VarsAth |\n",
       "|---|---|---|---|---|---|---|---|\n",
       "| 21 | 2  | M  | Y  | Y  | 1  | N  | N  |\n",
       "| 20 | 3  | F  | N  | N  | 2  | Y  | N  |\n",
       "| 22 | 3  | M  | Y  | N  | 2  | N  | N  |\n",
       "\n"
      ],
      "text/plain": [
       "  Age Yr Sex G21 Corps Res Greek VarsAth\n",
       "1 21  2  M   Y   Y     1   N     N      \n",
       "2 20  3  F   N   N     2   Y     N      \n",
       "3 22  3  M   Y   N     2   N     N      "
      ]
     },
     "metadata": {},
     "output_type": "display_data"
    }
   ],
   "source": [
    "data <- pers[1:8]\n",
    "head(data,3)"
   ]
  },
  {
   "cell_type": "markdown",
   "id": "civic-implement",
   "metadata": {},
   "source": [
    "We don't need to create a range. The columns subsetted can be non-contiguous if we use the concatenate function:"
   ]
  },
  {
   "cell_type": "code",
   "execution_count": 37,
   "id": "sized-border",
   "metadata": {},
   "outputs": [
    {
     "data": {
      "text/html": [
       "<table>\n",
       "<thead><tr><th scope=col>Age</th><th scope=col>Yr</th><th scope=col>Sex</th><th scope=col>Corps</th><th scope=col>AccDate</th><th scope=col>TypeA</th></tr></thead>\n",
       "<tbody>\n",
       "\t<tr><td>21</td><td>2 </td><td>M </td><td>Y </td><td>N </td><td>31</td></tr>\n",
       "\t<tr><td>20</td><td>3 </td><td>F </td><td>N </td><td>Y </td><td>32</td></tr>\n",
       "\t<tr><td>22</td><td>3 </td><td>M </td><td>N </td><td>Y </td><td>25</td></tr>\n",
       "</tbody>\n",
       "</table>\n"
      ],
      "text/latex": [
       "\\begin{tabular}{r|llllll}\n",
       " Age & Yr & Sex & Corps & AccDate & TypeA\\\\\n",
       "\\hline\n",
       "\t 21 & 2  & M  & Y  & N  & 31\\\\\n",
       "\t 20 & 3  & F  & N  & Y  & 32\\\\\n",
       "\t 22 & 3  & M  & N  & Y  & 25\\\\\n",
       "\\end{tabular}\n"
      ],
      "text/markdown": [
       "\n",
       "| Age | Yr | Sex | Corps | AccDate | TypeA |\n",
       "|---|---|---|---|---|---|\n",
       "| 21 | 2  | M  | Y  | N  | 31 |\n",
       "| 20 | 3  | F  | N  | Y  | 32 |\n",
       "| 22 | 3  | M  | N  | Y  | 25 |\n",
       "\n"
      ],
      "text/plain": [
       "  Age Yr Sex Corps AccDate TypeA\n",
       "1 21  2  M   Y     N       31   \n",
       "2 20  3  F   N     Y       32   \n",
       "3 22  3  M   N     Y       25   "
      ]
     },
     "metadata": {},
     "output_type": "display_data"
    }
   ],
   "source": [
    "data <- pers[c(1:3,5, 14, 22)]\n",
    "head(data,3)"
   ]
  },
  {
   "cell_type": "markdown",
   "id": "backed-equipment",
   "metadata": {},
   "source": [
    "**By Column Titles.** We can also subset by using column titles and the concatenate function. This is the final version of **data**, our example data frame for this unit."
   ]
  },
  {
   "cell_type": "code",
   "execution_count": 38,
   "id": "external-directive",
   "metadata": {},
   "outputs": [
    {
     "data": {
      "text/html": [
       "<table>\n",
       "<thead><tr><th scope=col>Sex</th><th scope=col>AccDate</th><th scope=col>Narc</th></tr></thead>\n",
       "<tbody>\n",
       "\t<tr><td>M </td><td>N </td><td>11</td></tr>\n",
       "\t<tr><td>F </td><td>Y </td><td>11</td></tr>\n",
       "\t<tr><td>M </td><td>Y </td><td>11</td></tr>\n",
       "\t<tr><td>F </td><td>N </td><td>10</td></tr>\n",
       "\t<tr><td>M </td><td>N </td><td>10</td></tr>\n",
       "</tbody>\n",
       "</table>\n"
      ],
      "text/latex": [
       "\\begin{tabular}{r|lll}\n",
       " Sex & AccDate & Narc\\\\\n",
       "\\hline\n",
       "\t M  & N  & 11\\\\\n",
       "\t F  & Y  & 11\\\\\n",
       "\t M  & Y  & 11\\\\\n",
       "\t F  & N  & 10\\\\\n",
       "\t M  & N  & 10\\\\\n",
       "\\end{tabular}\n"
      ],
      "text/markdown": [
       "\n",
       "| Sex | AccDate | Narc |\n",
       "|---|---|---|\n",
       "| M  | N  | 11 |\n",
       "| F  | Y  | 11 |\n",
       "| M  | Y  | 11 |\n",
       "| F  | N  | 10 |\n",
       "| M  | N  | 10 |\n",
       "\n"
      ],
      "text/plain": [
       "  Sex AccDate Narc\n",
       "1 M   N       11  \n",
       "2 F   Y       11  \n",
       "3 M   Y       11  \n",
       "4 F   N       10  \n",
       "5 M   N       10  "
      ]
     },
     "metadata": {},
     "output_type": "display_data"
    }
   ],
   "source": [
    "data <- pers[c('Sex', 'AccDate', 'Narc')]\n",
    "head(data,5)"
   ]
  },
  {
   "cell_type": "markdown",
   "id": "impossible-stupid",
   "metadata": {},
   "source": [
    "## Subsetting Rows in a Data Frame\n",
    "\n",
    "Columns usually are variables collected on the individuals. The individuals each have a row in the data frame. Hence, sometime we need to subset the rows to select a particular group or subgroup for analayis.\n",
    "\n",
    "We will use the **subset()** function here. We must use a formula to describe the criteria for which rows will be displayed. The cases are slightly  different for cateogry data (or what R calls factor data) vs. numeric data.\n",
    "\n",
    "1. Category data: row == 'subgroup_title'\n",
    "2. Numeric data: rows < 12\n",
    "\n",
    "The \" == \" symbol asks R to only include rows from a specific subgroup. The inequalities generally serve all the purposes for which we need to subset numeric data."
   ]
  },
  {
   "cell_type": "markdown",
   "id": "wanted-candy",
   "metadata": {},
   "source": [
    "**Example 1.** Suppose we wish our data frame *data* to only contain the **female responses**. We will save the subset data frame as the variable **f** so that we can use the **head()** function to display only a few rows -- enough to verify it's working properly without producing 4-5 screens of output."
   ]
  },
  {
   "cell_type": "code",
   "execution_count": 39,
   "id": "tropical-reduction",
   "metadata": {},
   "outputs": [
    {
     "data": {
      "text/html": [
       "<table>\n",
       "<thead><tr><th></th><th scope=col>Sex</th><th scope=col>AccDate</th><th scope=col>Narc</th></tr></thead>\n",
       "<tbody>\n",
       "\t<tr><th scope=row>2</th><td>F </td><td>Y </td><td>11</td></tr>\n",
       "\t<tr><th scope=row>4</th><td>F </td><td>N </td><td>10</td></tr>\n",
       "\t<tr><th scope=row>6</th><td>F </td><td>N </td><td> 9</td></tr>\n",
       "\t<tr><th scope=row>8</th><td>F </td><td>Y </td><td> 9</td></tr>\n",
       "\t<tr><th scope=row>9</th><td>F </td><td>N </td><td> 9</td></tr>\n",
       "\t<tr><th scope=row>10</th><td>F </td><td>N </td><td> 9</td></tr>\n",
       "\t<tr><th scope=row>12</th><td>F </td><td>Y </td><td> 9</td></tr>\n",
       "</tbody>\n",
       "</table>\n"
      ],
      "text/latex": [
       "\\begin{tabular}{r|lll}\n",
       "  & Sex & AccDate & Narc\\\\\n",
       "\\hline\n",
       "\t2 & F  & Y  & 11\\\\\n",
       "\t4 & F  & N  & 10\\\\\n",
       "\t6 & F  & N  &  9\\\\\n",
       "\t8 & F  & Y  &  9\\\\\n",
       "\t9 & F  & N  &  9\\\\\n",
       "\t10 & F  & N  &  9\\\\\n",
       "\t12 & F  & Y  &  9\\\\\n",
       "\\end{tabular}\n"
      ],
      "text/markdown": [
       "\n",
       "| <!--/--> | Sex | AccDate | Narc |\n",
       "|---|---|---|---|\n",
       "| 2 | F  | Y  | 11 |\n",
       "| 4 | F  | N  | 10 |\n",
       "| 6 | F  | N  |  9 |\n",
       "| 8 | F  | Y  |  9 |\n",
       "| 9 | F  | N  |  9 |\n",
       "| 10 | F  | N  |  9 |\n",
       "| 12 | F  | Y  |  9 |\n",
       "\n"
      ],
      "text/plain": [
       "   Sex AccDate Narc\n",
       "2  F   Y       11  \n",
       "4  F   N       10  \n",
       "6  F   N        9  \n",
       "8  F   Y        9  \n",
       "9  F   N        9  \n",
       "10 F   N        9  \n",
       "12 F   Y        9  "
      ]
     },
     "metadata": {},
     "output_type": "display_data"
    }
   ],
   "source": [
    "f = subset(data, Sex == 'F')\n",
    "head(f,7)"
   ]
  },
  {
   "cell_type": "markdown",
   "id": "political-firewall",
   "metadata": {},
   "source": [
    "**Example 2.** How many highly narcissistic students were included in the data set if $\\text{Narc}\\geq 10$ counts as highly narcissistic? Again, we will save the subset as **n** for narcissism so we can use the **head()** function to view a few rows."
   ]
  },
  {
   "cell_type": "code",
   "execution_count": 40,
   "id": "premier-harris",
   "metadata": {},
   "outputs": [
    {
     "data": {
      "text/html": [
       "<table>\n",
       "<thead><tr><th scope=col>Sex</th><th scope=col>AccDate</th><th scope=col>Narc</th></tr></thead>\n",
       "<tbody>\n",
       "\t<tr><td>M </td><td>N </td><td>11</td></tr>\n",
       "\t<tr><td>F </td><td>Y </td><td>11</td></tr>\n",
       "\t<tr><td>M </td><td>Y </td><td>11</td></tr>\n",
       "\t<tr><td>F </td><td>N </td><td>10</td></tr>\n",
       "\t<tr><td>M </td><td>N </td><td>10</td></tr>\n",
       "</tbody>\n",
       "</table>\n"
      ],
      "text/latex": [
       "\\begin{tabular}{r|lll}\n",
       " Sex & AccDate & Narc\\\\\n",
       "\\hline\n",
       "\t M  & N  & 11\\\\\n",
       "\t F  & Y  & 11\\\\\n",
       "\t M  & Y  & 11\\\\\n",
       "\t F  & N  & 10\\\\\n",
       "\t M  & N  & 10\\\\\n",
       "\\end{tabular}\n"
      ],
      "text/markdown": [
       "\n",
       "| Sex | AccDate | Narc |\n",
       "|---|---|---|\n",
       "| M  | N  | 11 |\n",
       "| F  | Y  | 11 |\n",
       "| M  | Y  | 11 |\n",
       "| F  | N  | 10 |\n",
       "| M  | N  | 10 |\n",
       "\n"
      ],
      "text/plain": [
       "  Sex AccDate Narc\n",
       "1 M   N       11  \n",
       "2 F   Y       11  \n",
       "3 M   Y       11  \n",
       "4 F   N       10  \n",
       "5 M   N       10  "
      ]
     },
     "metadata": {},
     "output_type": "display_data"
    }
   ],
   "source": [
    "n <- subset(data, Narc >= 10)\n",
    "head(n,7)"
   ]
  },
  {
   "cell_type": "markdown",
   "id": "mature-induction",
   "metadata": {},
   "source": [
    "The results indicate that 2 females and 3 males comprised this high range of narcissism scores."
   ]
  },
  {
   "cell_type": "markdown",
   "id": "happy-testament",
   "metadata": {},
   "source": [
    "## Data Analysis with Category Data"
   ]
  },
  {
   "cell_type": "markdown",
   "id": "accepted-cartridge",
   "metadata": {},
   "source": [
    "Suppose we have two cateogry variables. In the *data* subset, we have the variables *Sex* and *AccDate*. If we wish to determine if there is a difference in Yes/No responses due to the biological sex of the respondant, we have a couple of options."
   ]
  },
  {
   "cell_type": "markdown",
   "id": "critical-contents",
   "metadata": {},
   "source": [
    "### Crosstabs\n",
    "\n",
    "The **xtabs** function in native R works well for this as long as we understand a statistical model must be specified. The tilda (~) to begin is a place holder only, but the addition symbol (+) indicates that the variable that follows it is categorical."
   ]
  },
  {
   "cell_type": "code",
   "execution_count": 41,
   "id": "inner-drunk",
   "metadata": {},
   "outputs": [
    {
     "data": {
      "text/plain": [
       "   AccDate\n",
       "Sex  N  Y\n",
       "  F 28 46\n",
       "  M 28 27"
      ]
     },
     "metadata": {},
     "output_type": "display_data"
    }
   ],
   "source": [
    "xtabs(~Sex + AccDate, data)"
   ]
  },
  {
   "cell_type": "markdown",
   "id": "correct-photographer",
   "metadata": {},
   "source": [
    "### Mosaicplot\n",
    "\n",
    "A great visualization tool for exactly this situation is the **mosaicplot()** function which also uses statistical model notation."
   ]
  },
  {
   "cell_type": "code",
   "execution_count": 42,
   "id": "breathing-companion",
   "metadata": {},
   "outputs": [
    {
     "data": {
      "image/png": "[encoded data removed]",
      "text/plain": [
       "Plot with title \"data\""
      ]
     },
     "metadata": {},
     "output_type": "display_data"
    }
   ],
   "source": [
    "mosaicplot(~Sex + AccDate, data)"
   ]
  },
  {
   "cell_type": "markdown",
   "id": "worthy-academy",
   "metadata": {},
   "source": [
    "If both the rows and columns are separated by completely straight lines, there is no interaction between the variables. However, when the separation lines are not straight, we can see where the differences lie. In the above mosaic plot, we see that biological females are more likely to respond \"Yes\" to the AccDate question."
   ]
  },
  {
   "cell_type": "markdown",
   "id": "standard-plane",
   "metadata": {},
   "source": [
    "## Data Analysis with Category and Numeric Data\n",
    "\n",
    "Often, we wish to analyze numeric data by the subgroups in a category variable. We can do this with **narcissism** in the *data* vector."
   ]
  },
  {
   "cell_type": "markdown",
   "id": "opening-browse",
   "metadata": {},
   "source": [
    "### Numeric Variable by Category\n",
    "\n",
    "The tapply function will calcuate and displays the means for all subgroups if I order the inputs properly:\n",
    "\n",
    "1. numeric variable\n",
    "2. grouping variable\n",
    "3. function to be calcuated"
   ]
  },
  {
   "cell_type": "code",
   "execution_count": 43,
   "id": "proof-start",
   "metadata": {},
   "outputs": [
    {
     "data": {
      "text/html": [
       "<dl class=dl-horizontal>\n",
       "\t<dt>F</dt>\n",
       "\t\t<dd>3.94594594594595</dd>\n",
       "\t<dt>M</dt>\n",
       "\t\t<dd>5.69090909090909</dd>\n",
       "</dl>\n"
      ],
      "text/latex": [
       "\\begin{description*}\n",
       "\\item[F] 3.94594594594595\n",
       "\\item[M] 5.69090909090909\n",
       "\\end{description*}\n"
      ],
      "text/markdown": [
       "F\n",
       ":   3.94594594594595M\n",
       ":   5.69090909090909\n",
       "\n"
      ],
      "text/plain": [
       "       F        M \n",
       "3.945946 5.690909 "
      ]
     },
     "metadata": {},
     "output_type": "display_data"
    }
   ],
   "source": [
    "tapply(pers$Narc, pers$Sex, mean)"
   ]
  },
  {
   "cell_type": "markdown",
   "id": "given-launch",
   "metadata": {},
   "source": [
    "Notice that the **narcissism** scores for the biological males subgroup was higher than that of biological females.\n",
    "\n",
    "Below, we show how to calcuate means of a crosstabs table with two categorical variables. We need to add the second category variables using the **list()** function:"
   ]
  },
  {
   "cell_type": "code",
   "execution_count": 44,
   "id": "attempted-allah",
   "metadata": {},
   "outputs": [
    {
     "data": {
      "text/html": [
       "<table>\n",
       "<thead><tr><th></th><th scope=col>N</th><th scope=col>Y</th></tr></thead>\n",
       "<tbody>\n",
       "\t<tr><th scope=row>F</th><td>4.392857</td><td>3.673913</td></tr>\n",
       "\t<tr><th scope=row>M</th><td>6.428571</td><td>4.925926</td></tr>\n",
       "</tbody>\n",
       "</table>\n"
      ],
      "text/latex": [
       "\\begin{tabular}{r|ll}\n",
       "  & N & Y\\\\\n",
       "\\hline\n",
       "\tF & 4.392857 & 3.673913\\\\\n",
       "\tM & 6.428571 & 4.925926\\\\\n",
       "\\end{tabular}\n"
      ],
      "text/markdown": [
       "\n",
       "| <!--/--> | N | Y |\n",
       "|---|---|---|\n",
       "| F | 4.392857 | 3.673913 |\n",
       "| M | 6.428571 | 4.925926 |\n",
       "\n"
      ],
      "text/plain": [
       "  N        Y       \n",
       "F 4.392857 3.673913\n",
       "M 6.428571 4.925926"
      ]
     },
     "metadata": {},
     "output_type": "display_data"
    }
   ],
   "source": [
    "tapply(p$Narc, list(p$Sex, p$AccDate), mean )"
   ]
  },
  {
   "cell_type": "markdown",
   "id": "cooked-accused",
   "metadata": {},
   "source": [
    "The students who respond \"No\" to the AccDate question have higher **narcissism** scores. We also see the lower levels of narcissism in the biological females.\n",
    "\n",
    "### 5-Number Summary with tapply() Function\n",
    "\n",
    "The 5-Number Summary is split by the levels of the grouping variables as shown below:"
   ]
  },
  {
   "cell_type": "code",
   "execution_count": 45,
   "id": "secret-objective",
   "metadata": {},
   "outputs": [
    {
     "data": {
      "text/plain": [
       "$N\n",
       "   Min. 1st Qu.  Median    Mean 3rd Qu.    Max. \n",
       "  0.000   3.750   6.000   5.411   7.000  11.000 \n",
       "\n",
       "$Y\n",
       "   Min. 1st Qu.  Median    Mean 3rd Qu.    Max. \n",
       "  0.000   2.000   4.000   4.137   6.000  11.000 \n"
      ]
     },
     "metadata": {},
     "output_type": "display_data"
    }
   ],
   "source": [
    "tapply(p$Narc, p$AccDate, summary )"
   ]
  },
  {
   "cell_type": "markdown",
   "id": "charming-trader",
   "metadata": {},
   "source": [
    "## Side-by-Side Boxplots and Histograms\n",
    "\n",
    "The first subsetting will include on females in the dataframe *data*."
   ]
  },
  {
   "cell_type": "code",
   "execution_count": 46,
   "id": "deadly-makeup",
   "metadata": {},
   "outputs": [
    {
     "data": {
      "text/html": [
       "<table>\n",
       "<thead><tr><th></th><th scope=col>Sex</th><th scope=col>AccDate</th><th scope=col>Narc</th></tr></thead>\n",
       "<tbody>\n",
       "\t<tr><th scope=row>2</th><td>F </td><td>Y </td><td>11</td></tr>\n",
       "\t<tr><th scope=row>4</th><td>F </td><td>N </td><td>10</td></tr>\n",
       "\t<tr><th scope=row>6</th><td>F </td><td>N </td><td> 9</td></tr>\n",
       "\t<tr><th scope=row>8</th><td>F </td><td>Y </td><td> 9</td></tr>\n",
       "\t<tr><th scope=row>9</th><td>F </td><td>N </td><td> 9</td></tr>\n",
       "\t<tr><th scope=row>10</th><td>F </td><td>N </td><td> 9</td></tr>\n",
       "\t<tr><th scope=row>12</th><td>F </td><td>Y </td><td> 9</td></tr>\n",
       "</tbody>\n",
       "</table>\n"
      ],
      "text/latex": [
       "\\begin{tabular}{r|lll}\n",
       "  & Sex & AccDate & Narc\\\\\n",
       "\\hline\n",
       "\t2 & F  & Y  & 11\\\\\n",
       "\t4 & F  & N  & 10\\\\\n",
       "\t6 & F  & N  &  9\\\\\n",
       "\t8 & F  & Y  &  9\\\\\n",
       "\t9 & F  & N  &  9\\\\\n",
       "\t10 & F  & N  &  9\\\\\n",
       "\t12 & F  & Y  &  9\\\\\n",
       "\\end{tabular}\n"
      ],
      "text/markdown": [
       "\n",
       "| <!--/--> | Sex | AccDate | Narc |\n",
       "|---|---|---|---|\n",
       "| 2 | F  | Y  | 11 |\n",
       "| 4 | F  | N  | 10 |\n",
       "| 6 | F  | N  |  9 |\n",
       "| 8 | F  | Y  |  9 |\n",
       "| 9 | F  | N  |  9 |\n",
       "| 10 | F  | N  |  9 |\n",
       "| 12 | F  | Y  |  9 |\n",
       "\n"
      ],
      "text/plain": [
       "   Sex AccDate Narc\n",
       "2  F   Y       11  \n",
       "4  F   N       10  \n",
       "6  F   N        9  \n",
       "8  F   Y        9  \n",
       "9  F   N        9  \n",
       "10 F   N        9  \n",
       "12 F   Y        9  "
      ]
     },
     "metadata": {},
     "output_type": "display_data"
    }
   ],
   "source": [
    "female <- subset(data, Sex == 'F')\n",
    "head(female, 7)"
   ]
  },
  {
   "cell_type": "markdown",
   "id": "impossible-kazakhstan",
   "metadata": {},
   "source": [
    "However, the values of interest are in the **narcissism** column. We want a vector with only those values in column 3."
   ]
  },
  {
   "cell_type": "code",
   "execution_count": 47,
   "id": "requested-kernel",
   "metadata": {},
   "outputs": [
    {
     "data": {
      "text/html": [
       "<table>\n",
       "<thead><tr><th></th><th scope=col>Narc</th></tr></thead>\n",
       "<tbody>\n",
       "\t<tr><th scope=row>2</th><td>11</td></tr>\n",
       "\t<tr><th scope=row>4</th><td>10</td></tr>\n",
       "\t<tr><th scope=row>6</th><td> 9</td></tr>\n",
       "\t<tr><th scope=row>8</th><td> 9</td></tr>\n",
       "\t<tr><th scope=row>9</th><td> 9</td></tr>\n",
       "\t<tr><th scope=row>10</th><td> 9</td></tr>\n",
       "\t<tr><th scope=row>12</th><td> 9</td></tr>\n",
       "</tbody>\n",
       "</table>\n"
      ],
      "text/latex": [
       "\\begin{tabular}{r|l}\n",
       "  & Narc\\\\\n",
       "\\hline\n",
       "\t2 & 11\\\\\n",
       "\t4 & 10\\\\\n",
       "\t6 &  9\\\\\n",
       "\t8 &  9\\\\\n",
       "\t9 &  9\\\\\n",
       "\t10 &  9\\\\\n",
       "\t12 &  9\\\\\n",
       "\\end{tabular}\n"
      ],
      "text/markdown": [
       "\n",
       "| <!--/--> | Narc |\n",
       "|---|---|\n",
       "| 2 | 11 |\n",
       "| 4 | 10 |\n",
       "| 6 |  9 |\n",
       "| 8 |  9 |\n",
       "| 9 |  9 |\n",
       "| 10 |  9 |\n",
       "| 12 |  9 |\n",
       "\n"
      ],
      "text/plain": [
       "   Narc\n",
       "2  11  \n",
       "4  10  \n",
       "6   9  \n",
       "8   9  \n",
       "9   9  \n",
       "10  9  \n",
       "12  9  "
      ]
     },
     "metadata": {},
     "output_type": "display_data"
    }
   ],
   "source": [
    "f <- subset(data, Sex == 'F')[3]\n",
    "head(f, 7)"
   ]
  },
  {
   "cell_type": "markdown",
   "id": "possible-commerce",
   "metadata": {},
   "source": [
    "And similarly for the biological males:"
   ]
  },
  {
   "cell_type": "code",
   "execution_count": 48,
   "id": "usual-alarm",
   "metadata": {},
   "outputs": [
    {
     "data": {
      "text/html": [
       "<table>\n",
       "<thead><tr><th></th><th scope=col>Narc</th></tr></thead>\n",
       "<tbody>\n",
       "\t<tr><th scope=row>1</th><td>11</td></tr>\n",
       "\t<tr><th scope=row>3</th><td>11</td></tr>\n",
       "\t<tr><th scope=row>5</th><td>10</td></tr>\n",
       "\t<tr><th scope=row>7</th><td> 9</td></tr>\n",
       "\t<tr><th scope=row>11</th><td> 9</td></tr>\n",
       "\t<tr><th scope=row>13</th><td> 8</td></tr>\n",
       "\t<tr><th scope=row>14</th><td> 8</td></tr>\n",
       "</tbody>\n",
       "</table>\n"
      ],
      "text/latex": [
       "\\begin{tabular}{r|l}\n",
       "  & Narc\\\\\n",
       "\\hline\n",
       "\t1 & 11\\\\\n",
       "\t3 & 11\\\\\n",
       "\t5 & 10\\\\\n",
       "\t7 &  9\\\\\n",
       "\t11 &  9\\\\\n",
       "\t13 &  8\\\\\n",
       "\t14 &  8\\\\\n",
       "\\end{tabular}\n"
      ],
      "text/markdown": [
       "\n",
       "| <!--/--> | Narc |\n",
       "|---|---|\n",
       "| 1 | 11 |\n",
       "| 3 | 11 |\n",
       "| 5 | 10 |\n",
       "| 7 |  9 |\n",
       "| 11 |  9 |\n",
       "| 13 |  8 |\n",
       "| 14 |  8 |\n",
       "\n"
      ],
      "text/plain": [
       "   Narc\n",
       "1  11  \n",
       "3  11  \n",
       "5  10  \n",
       "7   9  \n",
       "11  9  \n",
       "13  8  \n",
       "14  8  "
      ]
     },
     "metadata": {},
     "output_type": "display_data"
    }
   ],
   "source": [
    "m <- subset(data, Sex == 'M')[3]\n",
    "head(m, 7)"
   ]
  },
  {
   "cell_type": "markdown",
   "id": "breathing-ghost",
   "metadata": {},
   "source": [
    "We can return to the function **cat()** to show summaries of narcissism by biological sex."
   ]
  },
  {
   "cell_type": "code",
   "execution_count": 49,
   "id": "graphic-fighter",
   "metadata": {},
   "outputs": [
    {
     "name": "stdout",
     "output_type": "stream",
     "text": [
      "For the Narcissism variable, we have: \n",
      "\n",
      "for females: Min.   : 0.000   1st Qu.: 2.000   Median : 3.000   Mean   : 3.946   3rd Qu.: 6.000   Max.   :11.000   \n",
      "and males:   Min.   : 1.000   1st Qu.: 4.000   Median : 6.000   Mean   : 5.691   3rd Qu.: 8.000   Max.   :11.000  "
     ]
    }
   ],
   "source": [
    "cat(\"For the Narcissism variable, we have: \\n\\nfor females:\", summary(f), \"\\nand males:  \", summary(m))"
   ]
  },
  {
   "cell_type": "markdown",
   "id": "dependent-electricity",
   "metadata": {},
   "source": [
    "Notice that we have added 2 spaces right before \"summary(m)\" to align the outputs. This helps with a close comparison and contrasting of the different groups on this variable."
   ]
  },
  {
   "cell_type": "markdown",
   "id": "beautiful-bench",
   "metadata": {},
   "source": [
    "## Exercises\n",
    "\n",
    "In the *personality* data set **pers**, try the following:\n",
    "\n",
    "1. Subset the data frame into a 2-column dataframe containing the grouping variable **SitClass** and the numeric variable **Perf**.\n",
    "2. The **SitClass** question asked student where, if they arrived at class when most seats were available, did they prefer to sit, in the **F**ront, **M**iddle or **B**ack of the classroom? Can you use the **cat()** function to display summaries of **Perf**ectionism for of all three levels of this category variable?\n",
    "3. Subset the data frame into a 3-column dataframe containing the the grouping variables **Corps** and **Yr** along with the numeric variable **Extro** which stands for extroversion.\n",
    "4. Analyze the data from question 3 in all appropriate ways."
   ]
  },
  {
   "cell_type": "code",
   "execution_count": null,
   "id": "stupid-letter",
   "metadata": {},
   "outputs": [],
   "source": []
  },
  {
   "cell_type": "code",
   "execution_count": null,
   "id": "visible-grocery",
   "metadata": {},
   "outputs": [],
   "source": []
  },
  {
   "cell_type": "code",
   "execution_count": null,
   "id": "proprietary-meaning",
   "metadata": {},
   "outputs": [],
   "source": []
  },
  {
   "cell_type": "code",
   "execution_count": null,
   "id": "marine-concentrate",
   "metadata": {},
   "outputs": [],
   "source": []
  },
  {
   "cell_type": "code",
   "execution_count": null,
   "id": "sixth-douglas",
   "metadata": {},
   "outputs": [],
   "source": []
  },
  {
   "cell_type": "code",
   "execution_count": null,
   "id": "eb19ce5e-2562-4839-ae23-2a133e6f410b",
   "metadata": {},
   "outputs": [],
   "source": []
  },
  {
   "cell_type": "code",
   "execution_count": null,
   "id": "3471fb04-56ae-493e-b3b4-1eee76806864",
   "metadata": {},
   "outputs": [],
   "source": []
  },
  {
   "cell_type": "code",
   "execution_count": null,
   "id": "d8fa4d59-6ab8-47e0-9e7a-d0995a8b7634",
   "metadata": {},
   "outputs": [],
   "source": []
  },
  {
   "cell_type": "code",
   "execution_count": null,
   "id": "8917972b-5665-40a2-bc35-1aa8d32d999f",
   "metadata": {},
   "outputs": [],
   "source": []
  },
  {
   "cell_type": "code",
   "execution_count": null,
   "id": "d7b73eb8-563b-48d6-9f3a-76e477829603",
   "metadata": {},
   "outputs": [],
   "source": []
  }
 ],
 "metadata": {
  "kernelspec": {
   "display_name": "R",
   "language": "R",
   "name": "ir"
  },
  "language_info": {
   "codemirror_mode": "r",
   "file_extension": ".r",
   "mimetype": "text/x-r-source",
   "name": "R",
   "pygments_lexer": "r",
   "version": "3.6.1"
  }
 },
 "nbformat": 4,
 "nbformat_minor": 5
}
