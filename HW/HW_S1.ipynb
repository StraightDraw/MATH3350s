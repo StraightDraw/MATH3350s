{
 "cells": [
  {
   "cell_type": "markdown",
   "id": "drawn-carter",
   "metadata": {},
   "source": [
    "# Homework: The Normal Curve and $t$-Tests\n",
    "\n",
    "Conduct the following homework problems in this notebook opening up new code blocks as needed. When you are done, you may take the D2L HW1 quiz with this document open."
   ]
  },
  {
   "cell_type": "markdown",
   "id": "sealed-pride",
   "metadata": {},
   "source": [
    "## Exercise 1\n",
    "\n",
    "The iris data set is built-in with R. The first line in the code cell shows the first few rows of the data set.\n",
    "\n",
    "* Display a data summary of of the Sepal.Width variable\n",
    "* Create a _horizontal_ boxplot of the Sepal.Width variable; put the title \"Distribution of Sepal Width\" on the plot  \n",
    "* Create a histogram of the Sepal.Width variable\n",
    "* Create a density plot of the Sepal.Width variable\n",
    "* In the Markdown cell AFTER the following code cell, describe the distribution of the Sepal.Width variable"
   ]
  },
  {
   "cell_type": "code",
   "execution_count": 4,
   "id": "secondary-interval",
   "metadata": {},
   "outputs": [
    {
     "data": {
      "text/html": [
       "<table>\n",
       "<caption>A data.frame: 6 × 5</caption>\n",
       "<thead>\n",
       "\t<tr><th></th><th scope=col>Sepal.Length</th><th scope=col>Sepal.Width</th><th scope=col>Petal.Length</th><th scope=col>Petal.Width</th><th scope=col>Species</th></tr>\n",
       "\t<tr><th></th><th scope=col>&lt;dbl&gt;</th><th scope=col>&lt;dbl&gt;</th><th scope=col>&lt;dbl&gt;</th><th scope=col>&lt;dbl&gt;</th><th scope=col>&lt;fct&gt;</th></tr>\n",
       "</thead>\n",
       "<tbody>\n",
       "\t<tr><th scope=row>1</th><td>5.1</td><td>3.5</td><td>1.4</td><td>0.2</td><td>setosa</td></tr>\n",
       "\t<tr><th scope=row>2</th><td>4.9</td><td>3.0</td><td>1.4</td><td>0.2</td><td>setosa</td></tr>\n",
       "\t<tr><th scope=row>3</th><td>4.7</td><td>3.2</td><td>1.3</td><td>0.2</td><td>setosa</td></tr>\n",
       "\t<tr><th scope=row>4</th><td>4.6</td><td>3.1</td><td>1.5</td><td>0.2</td><td>setosa</td></tr>\n",
       "\t<tr><th scope=row>5</th><td>5.0</td><td>3.6</td><td>1.4</td><td>0.2</td><td>setosa</td></tr>\n",
       "\t<tr><th scope=row>6</th><td>5.4</td><td>3.9</td><td>1.7</td><td>0.4</td><td>setosa</td></tr>\n",
       "</tbody>\n",
       "</table>\n"
      ],
      "text/latex": [
       "A data.frame: 6 × 5\n",
       "\\begin{tabular}{r|lllll}\n",
       "  & Sepal.Length & Sepal.Width & Petal.Length & Petal.Width & Species\\\\\n",
       "  & <dbl> & <dbl> & <dbl> & <dbl> & <fct>\\\\\n",
       "\\hline\n",
       "\t1 & 5.1 & 3.5 & 1.4 & 0.2 & setosa\\\\\n",
       "\t2 & 4.9 & 3.0 & 1.4 & 0.2 & setosa\\\\\n",
       "\t3 & 4.7 & 3.2 & 1.3 & 0.2 & setosa\\\\\n",
       "\t4 & 4.6 & 3.1 & 1.5 & 0.2 & setosa\\\\\n",
       "\t5 & 5.0 & 3.6 & 1.4 & 0.2 & setosa\\\\\n",
       "\t6 & 5.4 & 3.9 & 1.7 & 0.4 & setosa\\\\\n",
       "\\end{tabular}\n"
      ],
      "text/markdown": [
       "\n",
       "A data.frame: 6 × 5\n",
       "\n",
       "| <!--/--> | Sepal.Length &lt;dbl&gt; | Sepal.Width &lt;dbl&gt; | Petal.Length &lt;dbl&gt; | Petal.Width &lt;dbl&gt; | Species &lt;fct&gt; |\n",
       "|---|---|---|---|---|---|\n",
       "| 1 | 5.1 | 3.5 | 1.4 | 0.2 | setosa |\n",
       "| 2 | 4.9 | 3.0 | 1.4 | 0.2 | setosa |\n",
       "| 3 | 4.7 | 3.2 | 1.3 | 0.2 | setosa |\n",
       "| 4 | 4.6 | 3.1 | 1.5 | 0.2 | setosa |\n",
       "| 5 | 5.0 | 3.6 | 1.4 | 0.2 | setosa |\n",
       "| 6 | 5.4 | 3.9 | 1.7 | 0.4 | setosa |\n",
       "\n"
      ],
      "text/plain": [
       "  Sepal.Length Sepal.Width Petal.Length Petal.Width Species\n",
       "1 5.1          3.5         1.4          0.2         setosa \n",
       "2 4.9          3.0         1.4          0.2         setosa \n",
       "3 4.7          3.2         1.3          0.2         setosa \n",
       "4 4.6          3.1         1.5          0.2         setosa \n",
       "5 5.0          3.6         1.4          0.2         setosa \n",
       "6 5.4          3.9         1.7          0.4         setosa "
      ]
     },
     "metadata": {},
     "output_type": "display_data"
    }
   ],
   "source": [
    "head(iris)"
   ]
  },
  {
   "cell_type": "code",
   "execution_count": null,
   "id": "finnish-logan",
   "metadata": {},
   "outputs": [],
   "source": []
  },
  {
   "cell_type": "code",
   "execution_count": null,
   "id": "clinical-fitness",
   "metadata": {},
   "outputs": [],
   "source": []
  },
  {
   "cell_type": "code",
   "execution_count": null,
   "id": "found-plaintiff",
   "metadata": {},
   "outputs": [],
   "source": []
  },
  {
   "cell_type": "markdown",
   "id": "apparent-jonathan",
   "metadata": {},
   "source": [
    "### Exercise 1, continued\n",
    "\n",
    "b. Describe the distribution of the Sepal.Width in the code block below.\n",
    "\n",
    "c. Do the same steps with the Petal.Width."
   ]
  },
  {
   "cell_type": "code",
   "execution_count": null,
   "id": "rural-flexibility",
   "metadata": {},
   "outputs": [],
   "source": []
  },
  {
   "cell_type": "code",
   "execution_count": null,
   "id": "transsexual-faculty",
   "metadata": {},
   "outputs": [],
   "source": []
  },
  {
   "cell_type": "code",
   "execution_count": null,
   "id": "protecting-grove",
   "metadata": {},
   "outputs": [],
   "source": []
  },
  {
   "cell_type": "code",
   "execution_count": null,
   "id": "meaning-folder",
   "metadata": {},
   "outputs": [],
   "source": []
  },
  {
   "cell_type": "code",
   "execution_count": null,
   "id": "adapted-valve",
   "metadata": {},
   "outputs": [],
   "source": []
  },
  {
   "cell_type": "markdown",
   "id": "aboriginal-organic",
   "metadata": {},
   "source": [
    "## Exercise 2\n",
    "\n",
    "The boxplots of the Sepal.Width and Petal.Width variables in the iris data set should show that one of the distributions has outliers, while the other one does not. Use the information given in the data summary for each variable to show mathematically whether outliers exist according to the \"1.5 IQR\" rule. As part of your answer, be sure to identify explicitly the upper and lower cutoff for outliers for each variable.\n",
    "\n",
    "Place your answer below. (Although it is not required, I will be favorably impressed if your mathematical work is shown using LaTeX.)"
   ]
  },
  {
   "cell_type": "code",
   "execution_count": null,
   "id": "solved-import",
   "metadata": {},
   "outputs": [],
   "source": []
  },
  {
   "cell_type": "code",
   "execution_count": null,
   "id": "compact-burden",
   "metadata": {},
   "outputs": [],
   "source": []
  },
  {
   "cell_type": "code",
   "execution_count": null,
   "id": "packed-evaluation",
   "metadata": {},
   "outputs": [],
   "source": []
  },
  {
   "cell_type": "code",
   "execution_count": null,
   "id": "quality-healthcare",
   "metadata": {},
   "outputs": [],
   "source": []
  },
  {
   "cell_type": "code",
   "execution_count": null,
   "id": "focused-roads",
   "metadata": {},
   "outputs": [],
   "source": []
  },
  {
   "cell_type": "markdown",
   "id": "similar-bailey",
   "metadata": {},
   "source": [
    "## Exercise 3\n",
    "\n",
    "Suppose you are conducting a left-tailed $z$-test for 1 proportion. You obtain a z-statistic of -1.26. Use the appropriate R command(s) to find the p-value for this test."
   ]
  },
  {
   "cell_type": "code",
   "execution_count": null,
   "id": "color-beast",
   "metadata": {},
   "outputs": [],
   "source": []
  },
  {
   "cell_type": "code",
   "execution_count": null,
   "id": "voluntary-vulnerability",
   "metadata": {},
   "outputs": [],
   "source": []
  },
  {
   "cell_type": "code",
   "execution_count": null,
   "id": "involved-provider",
   "metadata": {},
   "outputs": [],
   "source": []
  },
  {
   "cell_type": "code",
   "execution_count": null,
   "id": "single-league",
   "metadata": {},
   "outputs": [],
   "source": []
  },
  {
   "cell_type": "code",
   "execution_count": null,
   "id": "laughing-crime",
   "metadata": {},
   "outputs": [],
   "source": []
  },
  {
   "cell_type": "markdown",
   "id": "listed-faith",
   "metadata": {},
   "source": [
    "## Exercise 4\n",
    "\n",
    "A 30-month study was conducted among teenagers who had smoked (tobacco) cigarettes at least once.  A survey was administered to the participants to gauge the extent of the addiction they had developed to nicotine.  Scores on the survey range from 0 to 10, with higher numbers indicating a higher degree of addiction.  The summary statistics for the survey are given by biological sex. Do have evidence that among teens who have tried smoking, males and females differ in their level of nicotine dependence? If so, at what significance level?\n",
    "\n",
    "<table style=\"width:65%\">\n",
    "  <tr>\n",
    "    <th>Group</th>\n",
    "    <th style=\"text-align: center;\">Sample Size</th> \n",
    "    <th style=\"text-align: center;\">Mean Score</th> \n",
    "    <th style=\"text-align: center;\">Standard Deviation</th>\n",
    "  </tr>\n",
    "  <tr>\n",
    "    <td><b>Females</b></td>\n",
    "    <td style=\"text-align: center;\">150</td>\n",
    "    <td style=\"text-align: center;\">2.8</td>\n",
    "    <td style=\"text-align: center;\">3.6</td>\n",
    "  </tr>\n",
    "  <tr>\n",
    "    <td><b>Males</b></td>\n",
    "    <td style=\"text-align: center;\">182</td>\n",
    "    <td style=\"text-align: center;\">1.6</td>\n",
    "    <td style=\"text-align: center;\">2.9</td>\n",
    "  </tr>\n",
    "</table>"
   ]
  },
  {
   "cell_type": "code",
   "execution_count": null,
   "id": "surgical-yugoslavia",
   "metadata": {},
   "outputs": [],
   "source": []
  },
  {
   "cell_type": "code",
   "execution_count": null,
   "id": "outdoor-series",
   "metadata": {},
   "outputs": [],
   "source": []
  },
  {
   "cell_type": "code",
   "execution_count": null,
   "id": "likely-consultancy",
   "metadata": {},
   "outputs": [],
   "source": []
  },
  {
   "cell_type": "code",
   "execution_count": null,
   "id": "engaging-payday",
   "metadata": {},
   "outputs": [],
   "source": []
  },
  {
   "cell_type": "code",
   "execution_count": null,
   "id": "cooked-motivation",
   "metadata": {},
   "outputs": [],
   "source": []
  },
  {
   "cell_type": "markdown",
   "id": "abstract-college",
   "metadata": {},
   "source": [
    "## Exercise 5\n",
    "\n",
    "### Research Question: Do younger women (age < 20) use less aggressive humor than overall population average of 29? Test at the $\\alpha = 0.5$ level.\n",
    "\n",
    "We know two things about aggressive humor from prior research:\n",
    "\n",
    "1. Biological females use less aggressive humor than males.\n",
    "2. Human beings use less aggressive humor as they age.\n",
    "\n",
    "Thus, the research question makes sense. You should consider the following steps:\n",
    "\n",
    "- Work with the **personality** data frame.\n",
    "- Keep only the variables Age and HSAG.\n",
    "- Use subsetting techniques to retain only rows where the value in the Sex column is an “F”.\n",
    "- Use subsetting techniques to retain only rows where the value in the Age column is less than 20."
   ]
  },
  {
   "cell_type": "code",
   "execution_count": null,
   "id": "static-service",
   "metadata": {},
   "outputs": [],
   "source": []
  },
  {
   "cell_type": "code",
   "execution_count": null,
   "id": "further-development",
   "metadata": {},
   "outputs": [],
   "source": []
  },
  {
   "cell_type": "code",
   "execution_count": null,
   "id": "potential-adrian",
   "metadata": {},
   "outputs": [],
   "source": []
  },
  {
   "cell_type": "code",
   "execution_count": null,
   "id": "synthetic-rubber",
   "metadata": {},
   "outputs": [],
   "source": []
  },
  {
   "cell_type": "code",
   "execution_count": null,
   "id": "acting-reform",
   "metadata": {},
   "outputs": [],
   "source": []
  },
  {
   "cell_type": "markdown",
   "id": "iraqi-destruction",
   "metadata": {},
   "source": [
    "## Exercise 6\n",
    "\n",
    "### Research Question: Do Older College Consume More Caffeine and Get Less Sleep? Test at the $\\alpha = 0.1$ level.\n",
    "\n",
    "The grouping variable G21 has two levels, Y for those answering yes to whether their current age was 21 years old or older, and N for those answering no. We will perform 1-tailed $t$-tests on two variables: Sleep, the number of hours of sleep in last 48 including naps (divided by 2, to give an average per night), and Caff, the number of 12 ounce servings of caffeine in last 24 hours. Our hypotheses are that older students will get less sleep and consume more caffeine."
   ]
  },
  {
   "cell_type": "code",
   "execution_count": null,
   "id": "north-reflection",
   "metadata": {},
   "outputs": [],
   "source": []
  },
  {
   "cell_type": "code",
   "execution_count": null,
   "id": "resistant-immune",
   "metadata": {},
   "outputs": [],
   "source": []
  },
  {
   "cell_type": "code",
   "execution_count": null,
   "id": "focal-windows",
   "metadata": {},
   "outputs": [],
   "source": []
  },
  {
   "cell_type": "code",
   "execution_count": null,
   "id": "weekly-ability",
   "metadata": {},
   "outputs": [],
   "source": []
  },
  {
   "cell_type": "code",
   "execution_count": null,
   "id": "accurate-saver",
   "metadata": {},
   "outputs": [],
   "source": []
  },
  {
   "cell_type": "markdown",
   "id": "turkish-swiss",
   "metadata": {},
   "source": [
    "## Exercise 7\n",
    "\n",
    "### Research Question: Do biological males at North Georgia use more coping humor than females? Test at the $\\alpha = 0.05$ level.\n",
    "\n",
    "Coping Humore (also known as gallows humor) describes the practice of using humor to cope when bad things happen in life. The variable in the **personality** data set for coping humore is **CHS**. You should consider the following steps:\n",
    "\n",
    "- Work with the **personality** data frame.\n",
    "- Keep only the variables Sex and CHS.\n",
    "- Conduct all relevant phases of the hypothesis test indicated by the question."
   ]
  },
  {
   "cell_type": "code",
   "execution_count": null,
   "id": "quick-prevention",
   "metadata": {},
   "outputs": [],
   "source": []
  },
  {
   "cell_type": "code",
   "execution_count": null,
   "id": "proprietary-malta",
   "metadata": {},
   "outputs": [],
   "source": []
  },
  {
   "cell_type": "code",
   "execution_count": null,
   "id": "fleet-scheme",
   "metadata": {},
   "outputs": [],
   "source": []
  },
  {
   "cell_type": "code",
   "execution_count": null,
   "id": "communist-cambridge",
   "metadata": {},
   "outputs": [],
   "source": []
  },
  {
   "cell_type": "code",
   "execution_count": null,
   "id": "intermediate-newsletter",
   "metadata": {},
   "outputs": [],
   "source": []
  },
  {
   "cell_type": "markdown",
   "id": "unnecessary-briefs",
   "metadata": {},
   "source": [
    "## Exercise 8\n",
    "\n",
    "Given the following normal distributions, answer the questions indicated below.\n",
    "\n",
    "- IQ ~ N(100, 15)\n",
    "- SAT ~ N(1000, 200)\n",
    "- ACT ~ N(21,5)"
   ]
  },
  {
   "cell_type": "markdown",
   "id": "transsexual-mercury",
   "metadata": {},
   "source": [
    "### Questions\n",
    "\n",
    "a. Find the 75th percentile IQ score.\n",
    "\n",
    "b. Sally earns a 1290 on the SAT. What is her percentile score?\n",
    "\n",
    "c. If Josie earns a 94th percentile score on the ACT, what is her raw score?\n",
    "\n",
    "d. What is the percentile corresponding to an IQ of 81?"
   ]
  },
  {
   "cell_type": "code",
   "execution_count": null,
   "id": "verified-classification",
   "metadata": {},
   "outputs": [],
   "source": []
  }
 ],
 "metadata": {
  "kernelspec": {
   "display_name": "R",
   "language": "R",
   "name": "ir"
  },
  "language_info": {
   "codemirror_mode": "r",
   "file_extension": ".r",
   "mimetype": "text/x-r-source",
   "name": "R",
   "pygments_lexer": "r",
   "version": "4.0.3"
  }
 },
 "nbformat": 4,
 "nbformat_minor": 5
}
