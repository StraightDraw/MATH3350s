{
 "cells": [
  {
   "cell_type": "markdown",
   "id": "d8467e88-1d52-4dbc-be50-ac0c2dcddcf7",
   "metadata": {},
   "source": [
    "# Stats HW1\n",
    "\n",
    "Please complete each of the Exploratory Data Analysis tasks described below complete with \n",
    "\n",
    "- descriptives\n",
    "- outliers\n",
    "- histograms\n",
    "- density plots\n",
    "- boxplots\n",
    "- mosaic plots, and\n",
    "- cross-tabulation \n",
    "\n",
    "as needed. Be sure to provide analysis describing shape, skew and outliers for each task.\n",
    "\n",
    "Let's load some data and prepare some data sets."
   ]
  },
  {
   "cell_type": "code",
   "execution_count": 2,
   "id": "5d63686f-dd0e-4a0d-aa38-248294716d55",
   "metadata": {},
   "outputs": [],
   "source": [
    "pers <- read.csv('https://faculty.ung.edu/rsinn/data/personality.csv')\n",
    "baby <- read.csv('https://faculty.ung.edu/rsinn/data/baby.csv')\n",
    "air <- read.csv('https://faculty.ung.edu/rsinn/data/airports.csv')\n",
    "park <- read.csv('https://faculty.ung.edu/rsinn/data/nationalparks.csv')\n",
    "\n",
    "gaair <- subset(air, region == 'US-GA')\n",
    "ga <- na.omit(gaair$elevation_ft)\n",
    "\n",
    "acr <- park$acres\n",
    "\n",
    "babe <- subset(baby, Maternal.Smoker == 'True')$Birth.Weight\n",
    "\n",
    "ocd <- pers$OCD"
   ]
  },
  {
   "cell_type": "markdown",
   "id": "805384cc-499e-4151-9155-dfa3367d26b0",
   "metadata": {},
   "source": [
    "## Task 1: EDA for ga\n",
    "\n",
    "Do a complete exploratory data analysis for the **ga** data set which has the elevation in feet of every airport and heliopad in Georgia. Be very careful when describing the shape. Do so carefully and completely."
   ]
  },
  {
   "cell_type": "code",
   "execution_count": null,
   "id": "972e460b-2200-4dc5-b2a0-2e1b1337cd74",
   "metadata": {},
   "outputs": [],
   "source": []
  },
  {
   "cell_type": "code",
   "execution_count": null,
   "id": "13be61e5-2fd2-43ed-a51e-edb64779c159",
   "metadata": {},
   "outputs": [],
   "source": []
  },
  {
   "cell_type": "code",
   "execution_count": null,
   "id": "d660a0c1-1d84-43cf-a04d-b9f35bfb1d77",
   "metadata": {},
   "outputs": [],
   "source": []
  },
  {
   "cell_type": "code",
   "execution_count": null,
   "id": "0583e6e6-b7c8-4d17-964a-e4159c395a05",
   "metadata": {},
   "outputs": [],
   "source": []
  },
  {
   "cell_type": "code",
   "execution_count": null,
   "id": "23c836ad-9d69-4150-b29d-ace33ac8eb83",
   "metadata": {},
   "outputs": [],
   "source": []
  },
  {
   "cell_type": "markdown",
   "id": "7b83dfed-7c3d-4e51-a925-cbb4d677776b",
   "metadata": {},
   "source": [
    "## Task 2: EDA for acr\n",
    "\n",
    "Do a complete exploratory data analysis for the **acr** data set which includes the number of acres that coomprise each national park in the United States."
   ]
  },
  {
   "cell_type": "code",
   "execution_count": null,
   "id": "2e95df54-0394-4cac-8352-86ab46172ffd",
   "metadata": {},
   "outputs": [],
   "source": []
  },
  {
   "cell_type": "code",
   "execution_count": null,
   "id": "02e78090-12e8-4d46-9dc0-6de666fb5f32",
   "metadata": {},
   "outputs": [],
   "source": []
  },
  {
   "cell_type": "code",
   "execution_count": null,
   "id": "e5f7ad16-b0b7-4e24-a690-445a436aa78b",
   "metadata": {},
   "outputs": [],
   "source": []
  },
  {
   "cell_type": "code",
   "execution_count": null,
   "id": "44b7ff0f-1b0f-4052-8352-03c6193d4b47",
   "metadata": {},
   "outputs": [],
   "source": []
  },
  {
   "cell_type": "code",
   "execution_count": null,
   "id": "9b87e6d4-c166-4f25-a3ad-f0cc655f81a6",
   "metadata": {},
   "outputs": [],
   "source": []
  },
  {
   "cell_type": "markdown",
   "id": "f4e388b3-a478-4030-b788-b2d854d9ca48",
   "metadata": {},
   "source": [
    "## Task 3: EDA for Acres vs. Visitors in US National Parks\n",
    "\n",
    "Do larger national parks have more visitors per year than smaller ones? Conduct an EDA for the 2 variables **acres** and **visitors** in the **parks** data frame.\n",
    "\n",
    "Be careful with your interpretation. Is there a relationship between the variables? Are the data appropriate for linear regression?"
   ]
  },
  {
   "cell_type": "code",
   "execution_count": null,
   "id": "cd54ec78-ae6f-44cc-ac15-304ac9197be0",
   "metadata": {},
   "outputs": [],
   "source": []
  },
  {
   "cell_type": "code",
   "execution_count": null,
   "id": "86b646c9-3e50-40b0-9949-2cb50dac294e",
   "metadata": {},
   "outputs": [],
   "source": []
  },
  {
   "cell_type": "code",
   "execution_count": null,
   "id": "df0286c0-ad85-4e8b-ad40-f06026ae6a8a",
   "metadata": {},
   "outputs": [],
   "source": []
  },
  {
   "cell_type": "code",
   "execution_count": null,
   "id": "c4efdfa6-75f5-41dc-90ff-d9a34eeec1bc",
   "metadata": {},
   "outputs": [],
   "source": []
  },
  {
   "cell_type": "code",
   "execution_count": null,
   "id": "2a5dea31-0c0f-4aef-92ee-1a8a39e015bf",
   "metadata": {},
   "outputs": [],
   "source": []
  },
  {
   "cell_type": "markdown",
   "id": "49b2949f-4a74-413d-a858-c9ff93e7598f",
   "metadata": {},
   "source": [
    "## Task 4: EDA for Sepal Width and Sepal Length vs. Species\n",
    "\n",
    "The iris data frame comes pre-loaded into R, so we can access it immediately with no additional steps. In the iris data frame, conduct 2 EDA's:\n",
    "\n",
    "1. Sepal.Width\n",
    "2. Sepal.Legth\n",
    "\n",
    "The grouping variable species should be used with both numeric variables."
   ]
  },
  {
   "cell_type": "code",
   "execution_count": null,
   "id": "bd2e7344-fd49-4ced-b2d0-e4868ed914d8",
   "metadata": {},
   "outputs": [],
   "source": []
  },
  {
   "cell_type": "code",
   "execution_count": null,
   "id": "16b38b56-9696-4567-921c-7bbde33edc4f",
   "metadata": {},
   "outputs": [],
   "source": []
  },
  {
   "cell_type": "code",
   "execution_count": null,
   "id": "cc229a75-f6b1-4f5b-b28a-54c0bb39d887",
   "metadata": {},
   "outputs": [],
   "source": []
  },
  {
   "cell_type": "code",
   "execution_count": null,
   "id": "db3afd43-cf7f-4a65-bddf-8d936428011c",
   "metadata": {},
   "outputs": [],
   "source": []
  },
  {
   "cell_type": "code",
   "execution_count": null,
   "id": "0ad2b1e5-b6f9-4907-8eb9-27754dc47f5a",
   "metadata": {},
   "outputs": [],
   "source": []
  },
  {
   "cell_type": "markdown",
   "id": "cac562d7-f20b-4edc-a415-3e3515da2458",
   "metadata": {},
   "source": [
    "## Task 5: EDA for Birth Weight vs. Gestational Days\n",
    "\n",
    "Using the **baby** data frame, conduct an EDA for **Gestational.Days** vs. **Birth.Weight** ."
   ]
  },
  {
   "cell_type": "code",
   "execution_count": null,
   "id": "c6acd827-c792-40a1-99de-09bb42f5359c",
   "metadata": {},
   "outputs": [],
   "source": []
  },
  {
   "cell_type": "code",
   "execution_count": null,
   "id": "63f61d97-f184-48ba-889f-3342f96f904a",
   "metadata": {},
   "outputs": [],
   "source": []
  },
  {
   "cell_type": "code",
   "execution_count": null,
   "id": "2cf401d5-8a68-4427-94eb-dd4c2a7a3f63",
   "metadata": {},
   "outputs": [],
   "source": []
  },
  {
   "cell_type": "code",
   "execution_count": null,
   "id": "103bca16-f76d-41b2-b32b-f740334d091d",
   "metadata": {},
   "outputs": [],
   "source": []
  },
  {
   "cell_type": "code",
   "execution_count": null,
   "id": "fce8ad01-11b0-471d-8a61-9e575f51a229",
   "metadata": {},
   "outputs": [],
   "source": []
  },
  {
   "cell_type": "markdown",
   "id": "08c3e874-4f90-4be0-a55e-4cbc81837ca9",
   "metadata": {},
   "source": [
    "## Task 6: EDA for OCD\n",
    "\n",
    "Do a complete exploratory data analysis for the **ocd** data set from the **personality** data frame."
   ]
  },
  {
   "cell_type": "code",
   "execution_count": null,
   "id": "aed43473-907c-4654-a816-57fd67d3b513",
   "metadata": {},
   "outputs": [],
   "source": []
  },
  {
   "cell_type": "code",
   "execution_count": null,
   "id": "2bb6074f-1941-4f8c-91c1-170f4ee2b834",
   "metadata": {},
   "outputs": [],
   "source": []
  },
  {
   "cell_type": "code",
   "execution_count": null,
   "id": "cb2776af-94ce-4b27-807c-5fd38cf4f1be",
   "metadata": {},
   "outputs": [],
   "source": []
  },
  {
   "cell_type": "code",
   "execution_count": null,
   "id": "b73698e9-8f57-4e27-8eb4-213ae84249cf",
   "metadata": {},
   "outputs": [],
   "source": []
  },
  {
   "cell_type": "code",
   "execution_count": null,
   "id": "ee6fe2b5-8e4a-41df-983c-84523c8fef14",
   "metadata": {},
   "outputs": [],
   "source": []
  },
  {
   "cell_type": "markdown",
   "id": "1cff267f-dc46-41f1-a74d-4ee4c32687a6",
   "metadata": {},
   "source": [
    "## Task 7: EDA for babe\n",
    "\n",
    "Do a complete exploratory data analysis for the **babe** data set which includes the **Birth Weight** of babies born to mothers who smoked cirgarettes during the pregnancy."
   ]
  },
  {
   "cell_type": "code",
   "execution_count": null,
   "id": "f325a94b-73ae-42f7-9080-012ecd0c7006",
   "metadata": {},
   "outputs": [],
   "source": []
  },
  {
   "cell_type": "code",
   "execution_count": null,
   "id": "33752774-97b3-4662-9427-86443e2eff22",
   "metadata": {},
   "outputs": [],
   "source": []
  },
  {
   "cell_type": "code",
   "execution_count": null,
   "id": "9ff818de-ada6-4a06-a946-c43a2fabba8c",
   "metadata": {},
   "outputs": [],
   "source": []
  },
  {
   "cell_type": "code",
   "execution_count": null,
   "id": "a826bcd8-6ec5-4792-a24b-b6bfdcc0ed01",
   "metadata": {},
   "outputs": [],
   "source": []
  },
  {
   "cell_type": "code",
   "execution_count": null,
   "id": "4e2f4e70-2085-4fa5-a208-96039d0a632b",
   "metadata": {},
   "outputs": [],
   "source": []
  }
 ],
 "metadata": {
  "kernelspec": {
   "display_name": "R",
   "language": "R",
   "name": "ir"
  },
  "language_info": {
   "codemirror_mode": "r",
   "file_extension": ".r",
   "mimetype": "text/x-r-source",
   "name": "R",
   "pygments_lexer": "r",
   "version": "3.6.1"
  }
 },
 "nbformat": 4,
 "nbformat_minor": 5
}
