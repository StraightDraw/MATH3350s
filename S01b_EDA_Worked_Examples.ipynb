{
 "cells": [
  {
   "cell_type": "markdown",
   "id": "e1e6f50c-3311-47bc-bd64-bb3b27be79e1",
   "metadata": {},
   "source": [
    "# Worked Examples for EDA\n",
    "\n",
    "Let's perform an exploratory data analysis on the following three data sets:\n",
    "1. ma -- mother's age from the births data set.\n",
    "2. delay -- the minutes of delay for 14,000 flights on United airlines.\n",
    "3. ka -- elevation data from a comprehensive list of Kansas airports.\n",
    "\n",
    "The data sets are imported and subsetted below. We will also need some code blocks for [descriptives](https://straightdraw.github.io/probstat/S1a.html) and [outliers](https://straightdraw.github.io/probstat/A2e.html), the links for which are included."
   ]
  },
  {
   "cell_type": "code",
   "execution_count": 1,
   "id": "3d857e00-e64c-4872-ab28-2500526b3fa5",
   "metadata": {},
   "outputs": [],
   "source": [
    "pers <- read.csv('http://faculty.ung.edu/rsinn/data/personality.csv')\n",
    "births <-  read.csv('http://faculty.ung.edu/rsinn/data/baby.csv')\n",
    "united <- read.csv('http://faculty.ung.edu/rsinn/data/united.csv')\n",
    "airports <- read.csv('http://faculty.ung.edu/rsinn/data/airports.csv')"
   ]
  },
  {
   "cell_type": "code",
   "execution_count": 2,
   "id": "e2493048-feca-47e7-b3fd-5cfdb74a62a3",
   "metadata": {},
   "outputs": [],
   "source": [
    "ma <- births$Maternal.Age\n",
    "delay <- united$Delay\n",
    "ka_temp <- subset(airports, region == 'US-KS')\n",
    "ka <- ka_temp$elevation_ft"
   ]
  },
  {
   "cell_type": "code",
   "execution_count": null,
   "id": "e08b4aaa-0380-4030-9afd-004a87c9670b",
   "metadata": {},
   "outputs": [],
   "source": []
  },
  {
   "cell_type": "code",
   "execution_count": null,
   "id": "e2840847-864d-4183-ae06-3ffccba15cac",
   "metadata": {},
   "outputs": [],
   "source": []
  },
  {
   "cell_type": "code",
   "execution_count": 32,
   "id": "fcd19db5-10fd-4a2c-a339-c30c965e0949",
   "metadata": {},
   "outputs": [
    {
     "data": {
      "image/png": "[encoded data removed]",
      "text/plain": [
       "Plot with title \"density.default(x = ka)\""
      ]
     },
     "metadata": {},
     "output_type": "display_data"
    }
   ],
   "source": []
  },
  {
   "cell_type": "code",
   "execution_count": null,
   "id": "8af58eb8-0096-4a74-88f7-9c00ea8161ef",
   "metadata": {},
   "outputs": [],
   "source": []
  }
 ],
 "metadata": {
  "kernelspec": {
   "display_name": "R",
   "language": "R",
   "name": "ir"
  },
  "language_info": {
   "codemirror_mode": "r",
   "file_extension": ".r",
   "mimetype": "text/x-r-source",
   "name": "R",
   "pygments_lexer": "r",
   "version": "3.6.1"
  }
 },
 "nbformat": 4,
 "nbformat_minor": 5
}
